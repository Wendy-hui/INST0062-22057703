{
 "cells": [
  {
   "cell_type": "code",
   "execution_count": 1,
   "id": "df65c59e-da8f-4136-920c-9b84480757c6",
   "metadata": {
    "tags": []
   },
   "outputs": [],
   "source": [
    "from datasets.caption.metrics.bleu import Bleu\n",
    "from datasets.caption.metrics.meteor import Meteor\n",
    "from datasets.caption.metrics.rouge import Rouge\n",
    "from datasets.caption.metrics.cider import Cider\n",
    "from datasets.caption.metrics.spice import Spice\n",
    "from datasets.caption.metrics.tokenizer import PTBTokenizer\n",
    "\n",
    "\n",
    "import pandas as pd\n",
    "import numpy as np\n",
    "\n",
    "\n",
    "\n",
    "def sample_scores(gts, gen,num=100):\n",
    "\n",
    "    columns = ['bleu_1gram','bleu_2gram','bleu_3gram','bleu_4gram',\n",
    "             'METEOR',\n",
    "             'ROUGE_1gram','ROUGE_1gram_pre','ROUGE_1gram_recall',\n",
    "             'ROUGE_2gram','ROUGE_2gram_pre','ROUGE_2gram_recall',\n",
    "             'ROUGE_L','ROUGE_L_pre','ROUGE_L_recall',\n",
    "             'CIDEr',\n",
    "             'Spice',]\n",
    "    metrics = (Bleu(), Meteor(), Rouge(), Cider(),Spice())\n",
    "\n",
    "    sample_num = 1\n",
    "    results = []\n",
    "    ids = np.array(list(gts.keys()))\n",
    "    for i in range(num):\n",
    "        temp_gt = {}\n",
    "        temp_gen ={}\n",
    "        id_index = np.random.choice(len(ids),sample_num,replace=False)\n",
    "        temp_id = ids[id_index]\n",
    "        for ID in temp_id:\n",
    "            temp_gt[ID] = gts[ID]\n",
    "            temp_gen[ID] = gen[ID]\n",
    "        s = []\n",
    "        for metric in metrics:\n",
    "            temp_score , _ = metric.compute_score(temp_gt, temp_gen)\n",
    "            try:\n",
    "                s += list(temp_score)\n",
    "            except:\n",
    "                s.append(temp_score)\n",
    "        results.append(s)\n",
    "        print('sample '+str(i)+' score :')\n",
    "        print(s)\n",
    "\n",
    "        df = pd.DataFrame(results)\n",
    "        df.columns = columns\n",
    "        df.to_csv('result_metrics.csv')\n",
    "    return df\n"
   ]
  },
  {
   "cell_type": "code",
   "execution_count": 2,
   "id": "09e17d93-e1b6-4303-8b28-240bd5ba0a78",
   "metadata": {
    "tags": []
   },
   "outputs": [],
   "source": [
    "hypothesis = [\"the #### transcript is a written version of each day 's cnn student news program use this transcript to he    lp students with reading comprehension and vocabulary use the weekly newsquiz to test your knowledge of storie s you     saw on cnn student news\"]\n",
    "\n",
    "reference = [\"this page includes the show transcript use the transcript to help students with reading comprehension and     vocabulary at the bottom of the page , comment for a chance to be mentioned on cnn student news . you must be a teac    her or a student age # # or older to request a mention on the cnn student news roll call . the weekly newsquiz tests     students ' knowledge of even ts in the news\"]\n",
    "\n",
    "gts={}\n",
    "gen={}\n",
    "gts['1']=hypothesis \n",
    "gen['1']=reference"
   ]
  },
  {
   "cell_type": "code",
   "execution_count": 3,
   "id": "a1de9aca-a615-4a3e-8db0-65f2c18b411c",
   "metadata": {
    "tags": []
   },
   "outputs": [
    {
     "name": "stdout",
     "output_type": "stream",
     "text": [
      "<_io.TextIOWrapper name='/root/grit/datasets/caption/metrics/spice/tmp/in' mode='w' encoding='UTF-8'>\n",
      "/root/grit/datasets/caption/metrics/spice/tmp/in\n"
     ]
    },
    {
     "name": "stderr",
     "output_type": "stream",
     "text": [
      "Parsing reference captions\n",
      "Parsing test captions\n"
     ]
    },
    {
     "name": "stdout",
     "output_type": "stream",
     "text": [
      "SPICE evaluation took: 640.2 ms\n",
      "sample 0 score :\n",
      "[0.37333333332835555, 0.2750921221584581, 0.2024142784563601, 0.14650846974742884, 0.27299442396489254, 0.49411764217577864, 0.42857142857142855, 0.5833333333333334, 0.23423422957552154, 0.18571428571428572, 0.3170731707317073, 0.49411764217577864, 0.42857142857142855, 0.5833333333333334, 0.0, 0.2580645161290323]\n",
      "<_io.TextIOWrapper name='/root/grit/datasets/caption/metrics/spice/tmp/in' mode='w' encoding='UTF-8'>\n",
      "/root/grit/datasets/caption/metrics/spice/tmp/in\n"
     ]
    },
    {
     "name": "stderr",
     "output_type": "stream",
     "text": [
      "Parsing reference captions\n",
      "Parsing test captions\n"
     ]
    },
    {
     "name": "stdout",
     "output_type": "stream",
     "text": [
      "SPICE evaluation took: 684.7 ms\n",
      "sample 1 score :\n",
      "[0.37333333332835555, 0.2750921221584581, 0.2024142784563601, 0.14650846974742884, 0.27299442396489254, 0.49411764217577864, 0.42857142857142855, 0.5833333333333334, 0.23423422957552154, 0.18571428571428572, 0.3170731707317073, 0.49411764217577864, 0.42857142857142855, 0.5833333333333334, 0.0, 0.2580645161290323]\n",
      "<_io.TextIOWrapper name='/root/grit/datasets/caption/metrics/spice/tmp/in' mode='w' encoding='UTF-8'>\n",
      "/root/grit/datasets/caption/metrics/spice/tmp/in\n"
     ]
    },
    {
     "name": "stderr",
     "output_type": "stream",
     "text": [
      "Parsing reference captions\n",
      "Parsing test captions\n"
     ]
    },
    {
     "name": "stdout",
     "output_type": "stream",
     "text": [
      "SPICE evaluation took: 675.2 ms\n",
      "sample 2 score :\n",
      "[0.37333333332835555, 0.2750921221584581, 0.2024142784563601, 0.14650846974742884, 0.27299442396489254, 0.49411764217577864, 0.42857142857142855, 0.5833333333333334, 0.23423422957552154, 0.18571428571428572, 0.3170731707317073, 0.49411764217577864, 0.42857142857142855, 0.5833333333333334, 0.0, 0.2580645161290323]\n",
      "<_io.TextIOWrapper name='/root/grit/datasets/caption/metrics/spice/tmp/in' mode='w' encoding='UTF-8'>\n",
      "/root/grit/datasets/caption/metrics/spice/tmp/in\n"
     ]
    },
    {
     "name": "stderr",
     "output_type": "stream",
     "text": [
      "Parsing reference captions\n",
      "Parsing test captions\n"
     ]
    },
    {
     "name": "stdout",
     "output_type": "stream",
     "text": [
      "SPICE evaluation took: 659.7 ms\n",
      "sample 3 score :\n",
      "[0.37333333332835555, 0.2750921221584581, 0.2024142784563601, 0.14650846974742884, 0.27299442396489254, 0.49411764217577864, 0.42857142857142855, 0.5833333333333334, 0.23423422957552154, 0.18571428571428572, 0.3170731707317073, 0.49411764217577864, 0.42857142857142855, 0.5833333333333334, 0.0, 0.2580645161290323]\n",
      "<_io.TextIOWrapper name='/root/grit/datasets/caption/metrics/spice/tmp/in' mode='w' encoding='UTF-8'>\n",
      "/root/grit/datasets/caption/metrics/spice/tmp/in\n"
     ]
    },
    {
     "name": "stderr",
     "output_type": "stream",
     "text": [
      "Parsing reference captions\n",
      "Parsing test captions\n"
     ]
    },
    {
     "name": "stdout",
     "output_type": "stream",
     "text": [
      "SPICE evaluation took: 676.6 ms\n",
      "sample 4 score :\n",
      "[0.37333333332835555, 0.2750921221584581, 0.2024142784563601, 0.14650846974742884, 0.27299442396489254, 0.49411764217577864, 0.42857142857142855, 0.5833333333333334, 0.23423422957552154, 0.18571428571428572, 0.3170731707317073, 0.49411764217577864, 0.42857142857142855, 0.5833333333333334, 0.0, 0.2580645161290323]\n",
      "<_io.TextIOWrapper name='/root/grit/datasets/caption/metrics/spice/tmp/in' mode='w' encoding='UTF-8'>\n",
      "/root/grit/datasets/caption/metrics/spice/tmp/in\n"
     ]
    },
    {
     "name": "stderr",
     "output_type": "stream",
     "text": [
      "Parsing reference captions\n",
      "Parsing test captions\n"
     ]
    },
    {
     "name": "stdout",
     "output_type": "stream",
     "text": [
      "SPICE evaluation took: 690.0 ms\n",
      "sample 5 score :\n",
      "[0.37333333332835555, 0.2750921221584581, 0.2024142784563601, 0.14650846974742884, 0.27299442396489254, 0.49411764217577864, 0.42857142857142855, 0.5833333333333334, 0.23423422957552154, 0.18571428571428572, 0.3170731707317073, 0.49411764217577864, 0.42857142857142855, 0.5833333333333334, 0.0, 0.2580645161290323]\n",
      "<_io.TextIOWrapper name='/root/grit/datasets/caption/metrics/spice/tmp/in' mode='w' encoding='UTF-8'>\n",
      "/root/grit/datasets/caption/metrics/spice/tmp/in\n"
     ]
    },
    {
     "name": "stderr",
     "output_type": "stream",
     "text": [
      "Parsing reference captions\n",
      "Parsing test captions\n"
     ]
    },
    {
     "name": "stdout",
     "output_type": "stream",
     "text": [
      "SPICE evaluation took: 666.7 ms\n",
      "sample 6 score :\n",
      "[0.37333333332835555, 0.2750921221584581, 0.2024142784563601, 0.14650846974742884, 0.27299442396489254, 0.49411764217577864, 0.42857142857142855, 0.5833333333333334, 0.23423422957552154, 0.18571428571428572, 0.3170731707317073, 0.49411764217577864, 0.42857142857142855, 0.5833333333333334, 0.0, 0.2580645161290323]\n",
      "<_io.TextIOWrapper name='/root/grit/datasets/caption/metrics/spice/tmp/in' mode='w' encoding='UTF-8'>\n",
      "/root/grit/datasets/caption/metrics/spice/tmp/in\n"
     ]
    },
    {
     "name": "stderr",
     "output_type": "stream",
     "text": [
      "Parsing reference captions\n",
      "Parsing test captions\n"
     ]
    },
    {
     "name": "stdout",
     "output_type": "stream",
     "text": [
      "SPICE evaluation took: 686.2 ms\n",
      "sample 7 score :\n",
      "[0.37333333332835555, 0.2750921221584581, 0.2024142784563601, 0.14650846974742884, 0.27299442396489254, 0.49411764217577864, 0.42857142857142855, 0.5833333333333334, 0.23423422957552154, 0.18571428571428572, 0.3170731707317073, 0.49411764217577864, 0.42857142857142855, 0.5833333333333334, 0.0, 0.2580645161290323]\n",
      "<_io.TextIOWrapper name='/root/grit/datasets/caption/metrics/spice/tmp/in' mode='w' encoding='UTF-8'>\n",
      "/root/grit/datasets/caption/metrics/spice/tmp/in\n"
     ]
    },
    {
     "name": "stderr",
     "output_type": "stream",
     "text": [
      "Parsing reference captions\n",
      "Parsing test captions\n"
     ]
    },
    {
     "name": "stdout",
     "output_type": "stream",
     "text": [
      "SPICE evaluation took: 659.3 ms\n",
      "sample 8 score :\n",
      "[0.37333333332835555, 0.2750921221584581, 0.2024142784563601, 0.14650846974742884, 0.27299442396489254, 0.49411764217577864, 0.42857142857142855, 0.5833333333333334, 0.23423422957552154, 0.18571428571428572, 0.3170731707317073, 0.49411764217577864, 0.42857142857142855, 0.5833333333333334, 0.0, 0.2580645161290323]\n",
      "<_io.TextIOWrapper name='/root/grit/datasets/caption/metrics/spice/tmp/in' mode='w' encoding='UTF-8'>\n",
      "/root/grit/datasets/caption/metrics/spice/tmp/in\n"
     ]
    },
    {
     "name": "stderr",
     "output_type": "stream",
     "text": [
      "Parsing reference captions\n",
      "Parsing test captions\n"
     ]
    },
    {
     "name": "stdout",
     "output_type": "stream",
     "text": [
      "SPICE evaluation took: 638.8 ms\n",
      "sample 9 score :\n",
      "[0.37333333332835555, 0.2750921221584581, 0.2024142784563601, 0.14650846974742884, 0.27299442396489254, 0.49411764217577864, 0.42857142857142855, 0.5833333333333334, 0.23423422957552154, 0.18571428571428572, 0.3170731707317073, 0.49411764217577864, 0.42857142857142855, 0.5833333333333334, 0.0, 0.2580645161290323]\n",
      "<_io.TextIOWrapper name='/root/grit/datasets/caption/metrics/spice/tmp/in' mode='w' encoding='UTF-8'>\n",
      "/root/grit/datasets/caption/metrics/spice/tmp/in\n"
     ]
    },
    {
     "name": "stderr",
     "output_type": "stream",
     "text": [
      "Parsing reference captions\n",
      "Parsing test captions\n"
     ]
    },
    {
     "name": "stdout",
     "output_type": "stream",
     "text": [
      "SPICE evaluation took: 696.1 ms\n",
      "sample 10 score :\n",
      "[0.37333333332835555, 0.2750921221584581, 0.2024142784563601, 0.14650846974742884, 0.27299442396489254, 0.49411764217577864, 0.42857142857142855, 0.5833333333333334, 0.23423422957552154, 0.18571428571428572, 0.3170731707317073, 0.49411764217577864, 0.42857142857142855, 0.5833333333333334, 0.0, 0.2580645161290323]\n",
      "<_io.TextIOWrapper name='/root/grit/datasets/caption/metrics/spice/tmp/in' mode='w' encoding='UTF-8'>\n",
      "/root/grit/datasets/caption/metrics/spice/tmp/in\n"
     ]
    },
    {
     "name": "stderr",
     "output_type": "stream",
     "text": [
      "Parsing reference captions\n",
      "Parsing test captions\n"
     ]
    },
    {
     "name": "stdout",
     "output_type": "stream",
     "text": [
      "SPICE evaluation took: 644.1 ms\n",
      "sample 11 score :\n",
      "[0.37333333332835555, 0.2750921221584581, 0.2024142784563601, 0.14650846974742884, 0.27299442396489254, 0.49411764217577864, 0.42857142857142855, 0.5833333333333334, 0.23423422957552154, 0.18571428571428572, 0.3170731707317073, 0.49411764217577864, 0.42857142857142855, 0.5833333333333334, 0.0, 0.2580645161290323]\n",
      "<_io.TextIOWrapper name='/root/grit/datasets/caption/metrics/spice/tmp/in' mode='w' encoding='UTF-8'>\n",
      "/root/grit/datasets/caption/metrics/spice/tmp/in\n"
     ]
    },
    {
     "name": "stderr",
     "output_type": "stream",
     "text": [
      "Parsing reference captions\n",
      "Parsing test captions\n"
     ]
    },
    {
     "name": "stdout",
     "output_type": "stream",
     "text": [
      "SPICE evaluation took: 688.5 ms\n",
      "sample 12 score :\n",
      "[0.37333333332835555, 0.2750921221584581, 0.2024142784563601, 0.14650846974742884, 0.27299442396489254, 0.49411764217577864, 0.42857142857142855, 0.5833333333333334, 0.23423422957552154, 0.18571428571428572, 0.3170731707317073, 0.49411764217577864, 0.42857142857142855, 0.5833333333333334, 0.0, 0.2580645161290323]\n",
      "<_io.TextIOWrapper name='/root/grit/datasets/caption/metrics/spice/tmp/in' mode='w' encoding='UTF-8'>\n",
      "/root/grit/datasets/caption/metrics/spice/tmp/in\n"
     ]
    },
    {
     "name": "stderr",
     "output_type": "stream",
     "text": [
      "Parsing reference captions\n",
      "Parsing test captions\n"
     ]
    },
    {
     "name": "stdout",
     "output_type": "stream",
     "text": [
      "SPICE evaluation took: 632.9 ms\n",
      "sample 13 score :\n",
      "[0.37333333332835555, 0.2750921221584581, 0.2024142784563601, 0.14650846974742884, 0.27299442396489254, 0.49411764217577864, 0.42857142857142855, 0.5833333333333334, 0.23423422957552154, 0.18571428571428572, 0.3170731707317073, 0.49411764217577864, 0.42857142857142855, 0.5833333333333334, 0.0, 0.2580645161290323]\n",
      "<_io.TextIOWrapper name='/root/grit/datasets/caption/metrics/spice/tmp/in' mode='w' encoding='UTF-8'>\n",
      "/root/grit/datasets/caption/metrics/spice/tmp/in\n"
     ]
    },
    {
     "name": "stderr",
     "output_type": "stream",
     "text": [
      "Parsing reference captions\n",
      "Parsing test captions\n"
     ]
    },
    {
     "name": "stdout",
     "output_type": "stream",
     "text": [
      "SPICE evaluation took: 668.4 ms\n",
      "sample 14 score :\n",
      "[0.37333333332835555, 0.2750921221584581, 0.2024142784563601, 0.14650846974742884, 0.27299442396489254, 0.49411764217577864, 0.42857142857142855, 0.5833333333333334, 0.23423422957552154, 0.18571428571428572, 0.3170731707317073, 0.49411764217577864, 0.42857142857142855, 0.5833333333333334, 0.0, 0.2580645161290323]\n",
      "<_io.TextIOWrapper name='/root/grit/datasets/caption/metrics/spice/tmp/in' mode='w' encoding='UTF-8'>\n",
      "/root/grit/datasets/caption/metrics/spice/tmp/in\n"
     ]
    },
    {
     "name": "stderr",
     "output_type": "stream",
     "text": [
      "Parsing reference captions\n",
      "Parsing test captions\n"
     ]
    },
    {
     "name": "stdout",
     "output_type": "stream",
     "text": [
      "SPICE evaluation took: 571.1 ms\n",
      "sample 15 score :\n",
      "[0.37333333332835555, 0.2750921221584581, 0.2024142784563601, 0.14650846974742884, 0.27299442396489254, 0.49411764217577864, 0.42857142857142855, 0.5833333333333334, 0.23423422957552154, 0.18571428571428572, 0.3170731707317073, 0.49411764217577864, 0.42857142857142855, 0.5833333333333334, 0.0, 0.2580645161290323]\n",
      "<_io.TextIOWrapper name='/root/grit/datasets/caption/metrics/spice/tmp/in' mode='w' encoding='UTF-8'>\n",
      "/root/grit/datasets/caption/metrics/spice/tmp/in\n"
     ]
    },
    {
     "name": "stderr",
     "output_type": "stream",
     "text": [
      "Parsing reference captions\n",
      "Parsing test captions\n"
     ]
    },
    {
     "name": "stdout",
     "output_type": "stream",
     "text": [
      "SPICE evaluation took: 562.1 ms\n",
      "sample 16 score :\n",
      "[0.37333333332835555, 0.2750921221584581, 0.2024142784563601, 0.14650846974742884, 0.27299442396489254, 0.49411764217577864, 0.42857142857142855, 0.5833333333333334, 0.23423422957552154, 0.18571428571428572, 0.3170731707317073, 0.49411764217577864, 0.42857142857142855, 0.5833333333333334, 0.0, 0.2580645161290323]\n",
      "<_io.TextIOWrapper name='/root/grit/datasets/caption/metrics/spice/tmp/in' mode='w' encoding='UTF-8'>\n",
      "/root/grit/datasets/caption/metrics/spice/tmp/in\n"
     ]
    },
    {
     "name": "stderr",
     "output_type": "stream",
     "text": [
      "Parsing reference captions\n",
      "Parsing test captions\n"
     ]
    },
    {
     "name": "stdout",
     "output_type": "stream",
     "text": [
      "SPICE evaluation took: 655.6 ms\n",
      "sample 17 score :\n",
      "[0.37333333332835555, 0.2750921221584581, 0.2024142784563601, 0.14650846974742884, 0.27299442396489254, 0.49411764217577864, 0.42857142857142855, 0.5833333333333334, 0.23423422957552154, 0.18571428571428572, 0.3170731707317073, 0.49411764217577864, 0.42857142857142855, 0.5833333333333334, 0.0, 0.2580645161290323]\n",
      "<_io.TextIOWrapper name='/root/grit/datasets/caption/metrics/spice/tmp/in' mode='w' encoding='UTF-8'>\n",
      "/root/grit/datasets/caption/metrics/spice/tmp/in\n"
     ]
    },
    {
     "name": "stderr",
     "output_type": "stream",
     "text": [
      "Parsing reference captions\n",
      "Parsing test captions\n"
     ]
    },
    {
     "name": "stdout",
     "output_type": "stream",
     "text": [
      "SPICE evaluation took: 658.2 ms\n",
      "sample 18 score :\n",
      "[0.37333333332835555, 0.2750921221584581, 0.2024142784563601, 0.14650846974742884, 0.27299442396489254, 0.49411764217577864, 0.42857142857142855, 0.5833333333333334, 0.23423422957552154, 0.18571428571428572, 0.3170731707317073, 0.49411764217577864, 0.42857142857142855, 0.5833333333333334, 0.0, 0.2580645161290323]\n",
      "<_io.TextIOWrapper name='/root/grit/datasets/caption/metrics/spice/tmp/in' mode='w' encoding='UTF-8'>\n",
      "/root/grit/datasets/caption/metrics/spice/tmp/in\n"
     ]
    },
    {
     "name": "stderr",
     "output_type": "stream",
     "text": [
      "Parsing reference captions\n",
      "Parsing test captions\n"
     ]
    },
    {
     "name": "stdout",
     "output_type": "stream",
     "text": [
      "SPICE evaluation took: 638.9 ms\n",
      "sample 19 score :\n",
      "[0.37333333332835555, 0.2750921221584581, 0.2024142784563601, 0.14650846974742884, 0.27299442396489254, 0.49411764217577864, 0.42857142857142855, 0.5833333333333334, 0.23423422957552154, 0.18571428571428572, 0.3170731707317073, 0.49411764217577864, 0.42857142857142855, 0.5833333333333334, 0.0, 0.2580645161290323]\n",
      "<_io.TextIOWrapper name='/root/grit/datasets/caption/metrics/spice/tmp/in' mode='w' encoding='UTF-8'>\n",
      "/root/grit/datasets/caption/metrics/spice/tmp/in\n"
     ]
    },
    {
     "name": "stderr",
     "output_type": "stream",
     "text": [
      "Parsing reference captions\n",
      "Parsing test captions\n"
     ]
    },
    {
     "name": "stdout",
     "output_type": "stream",
     "text": [
      "SPICE evaluation took: 636.4 ms\n",
      "sample 20 score :\n",
      "[0.37333333332835555, 0.2750921221584581, 0.2024142784563601, 0.14650846974742884, 0.27299442396489254, 0.49411764217577864, 0.42857142857142855, 0.5833333333333334, 0.23423422957552154, 0.18571428571428572, 0.3170731707317073, 0.49411764217577864, 0.42857142857142855, 0.5833333333333334, 0.0, 0.2580645161290323]\n",
      "<_io.TextIOWrapper name='/root/grit/datasets/caption/metrics/spice/tmp/in' mode='w' encoding='UTF-8'>\n",
      "/root/grit/datasets/caption/metrics/spice/tmp/in\n"
     ]
    },
    {
     "name": "stderr",
     "output_type": "stream",
     "text": [
      "Parsing reference captions\n",
      "Parsing test captions\n"
     ]
    },
    {
     "name": "stdout",
     "output_type": "stream",
     "text": [
      "SPICE evaluation took: 652.6 ms\n",
      "sample 21 score :\n",
      "[0.37333333332835555, 0.2750921221584581, 0.2024142784563601, 0.14650846974742884, 0.27299442396489254, 0.49411764217577864, 0.42857142857142855, 0.5833333333333334, 0.23423422957552154, 0.18571428571428572, 0.3170731707317073, 0.49411764217577864, 0.42857142857142855, 0.5833333333333334, 0.0, 0.2580645161290323]\n",
      "<_io.TextIOWrapper name='/root/grit/datasets/caption/metrics/spice/tmp/in' mode='w' encoding='UTF-8'>\n",
      "/root/grit/datasets/caption/metrics/spice/tmp/in\n"
     ]
    },
    {
     "name": "stderr",
     "output_type": "stream",
     "text": [
      "Parsing reference captions\n",
      "Parsing test captions\n"
     ]
    },
    {
     "name": "stdout",
     "output_type": "stream",
     "text": [
      "SPICE evaluation took: 692.5 ms\n",
      "sample 22 score :\n",
      "[0.37333333332835555, 0.2750921221584581, 0.2024142784563601, 0.14650846974742884, 0.27299442396489254, 0.49411764217577864, 0.42857142857142855, 0.5833333333333334, 0.23423422957552154, 0.18571428571428572, 0.3170731707317073, 0.49411764217577864, 0.42857142857142855, 0.5833333333333334, 0.0, 0.2580645161290323]\n",
      "<_io.TextIOWrapper name='/root/grit/datasets/caption/metrics/spice/tmp/in' mode='w' encoding='UTF-8'>\n",
      "/root/grit/datasets/caption/metrics/spice/tmp/in\n"
     ]
    },
    {
     "name": "stderr",
     "output_type": "stream",
     "text": [
      "Parsing reference captions\n",
      "Parsing test captions\n"
     ]
    },
    {
     "name": "stdout",
     "output_type": "stream",
     "text": [
      "SPICE evaluation took: 648.9 ms\n",
      "sample 23 score :\n",
      "[0.37333333332835555, 0.2750921221584581, 0.2024142784563601, 0.14650846974742884, 0.27299442396489254, 0.49411764217577864, 0.42857142857142855, 0.5833333333333334, 0.23423422957552154, 0.18571428571428572, 0.3170731707317073, 0.49411764217577864, 0.42857142857142855, 0.5833333333333334, 0.0, 0.2580645161290323]\n",
      "<_io.TextIOWrapper name='/root/grit/datasets/caption/metrics/spice/tmp/in' mode='w' encoding='UTF-8'>\n",
      "/root/grit/datasets/caption/metrics/spice/tmp/in\n"
     ]
    },
    {
     "name": "stderr",
     "output_type": "stream",
     "text": [
      "Parsing reference captions\n",
      "Parsing test captions\n"
     ]
    },
    {
     "name": "stdout",
     "output_type": "stream",
     "text": [
      "SPICE evaluation took: 682.0 ms\n",
      "sample 24 score :\n",
      "[0.37333333332835555, 0.2750921221584581, 0.2024142784563601, 0.14650846974742884, 0.27299442396489254, 0.49411764217577864, 0.42857142857142855, 0.5833333333333334, 0.23423422957552154, 0.18571428571428572, 0.3170731707317073, 0.49411764217577864, 0.42857142857142855, 0.5833333333333334, 0.0, 0.2580645161290323]\n",
      "<_io.TextIOWrapper name='/root/grit/datasets/caption/metrics/spice/tmp/in' mode='w' encoding='UTF-8'>\n",
      "/root/grit/datasets/caption/metrics/spice/tmp/in\n"
     ]
    },
    {
     "name": "stderr",
     "output_type": "stream",
     "text": [
      "Parsing reference captions\n",
      "Parsing test captions\n"
     ]
    },
    {
     "name": "stdout",
     "output_type": "stream",
     "text": [
      "SPICE evaluation took: 735.7 ms\n",
      "sample 25 score :\n",
      "[0.37333333332835555, 0.2750921221584581, 0.2024142784563601, 0.14650846974742884, 0.27299442396489254, 0.49411764217577864, 0.42857142857142855, 0.5833333333333334, 0.23423422957552154, 0.18571428571428572, 0.3170731707317073, 0.49411764217577864, 0.42857142857142855, 0.5833333333333334, 0.0, 0.2580645161290323]\n",
      "<_io.TextIOWrapper name='/root/grit/datasets/caption/metrics/spice/tmp/in' mode='w' encoding='UTF-8'>\n",
      "/root/grit/datasets/caption/metrics/spice/tmp/in\n"
     ]
    },
    {
     "name": "stderr",
     "output_type": "stream",
     "text": [
      "Parsing reference captions\n",
      "Parsing test captions\n"
     ]
    },
    {
     "name": "stdout",
     "output_type": "stream",
     "text": [
      "SPICE evaluation took: 706.2 ms\n",
      "sample 26 score :\n",
      "[0.37333333332835555, 0.2750921221584581, 0.2024142784563601, 0.14650846974742884, 0.27299442396489254, 0.49411764217577864, 0.42857142857142855, 0.5833333333333334, 0.23423422957552154, 0.18571428571428572, 0.3170731707317073, 0.49411764217577864, 0.42857142857142855, 0.5833333333333334, 0.0, 0.2580645161290323]\n",
      "<_io.TextIOWrapper name='/root/grit/datasets/caption/metrics/spice/tmp/in' mode='w' encoding='UTF-8'>\n",
      "/root/grit/datasets/caption/metrics/spice/tmp/in\n"
     ]
    },
    {
     "name": "stderr",
     "output_type": "stream",
     "text": [
      "Parsing reference captions\n",
      "Parsing test captions\n"
     ]
    },
    {
     "name": "stdout",
     "output_type": "stream",
     "text": [
      "SPICE evaluation took: 677.0 ms\n",
      "sample 27 score :\n",
      "[0.37333333332835555, 0.2750921221584581, 0.2024142784563601, 0.14650846974742884, 0.27299442396489254, 0.49411764217577864, 0.42857142857142855, 0.5833333333333334, 0.23423422957552154, 0.18571428571428572, 0.3170731707317073, 0.49411764217577864, 0.42857142857142855, 0.5833333333333334, 0.0, 0.2580645161290323]\n",
      "<_io.TextIOWrapper name='/root/grit/datasets/caption/metrics/spice/tmp/in' mode='w' encoding='UTF-8'>\n",
      "/root/grit/datasets/caption/metrics/spice/tmp/in\n"
     ]
    },
    {
     "name": "stderr",
     "output_type": "stream",
     "text": [
      "Parsing reference captions\n",
      "Parsing test captions\n"
     ]
    },
    {
     "name": "stdout",
     "output_type": "stream",
     "text": [
      "SPICE evaluation took: 765.3 ms\n",
      "sample 28 score :\n",
      "[0.37333333332835555, 0.2750921221584581, 0.2024142784563601, 0.14650846974742884, 0.27299442396489254, 0.49411764217577864, 0.42857142857142855, 0.5833333333333334, 0.23423422957552154, 0.18571428571428572, 0.3170731707317073, 0.49411764217577864, 0.42857142857142855, 0.5833333333333334, 0.0, 0.2580645161290323]\n",
      "<_io.TextIOWrapper name='/root/grit/datasets/caption/metrics/spice/tmp/in' mode='w' encoding='UTF-8'>\n",
      "/root/grit/datasets/caption/metrics/spice/tmp/in\n"
     ]
    },
    {
     "name": "stderr",
     "output_type": "stream",
     "text": [
      "Parsing reference captions\n",
      "Parsing test captions\n"
     ]
    },
    {
     "name": "stdout",
     "output_type": "stream",
     "text": [
      "SPICE evaluation took: 629.7 ms\n",
      "sample 29 score :\n",
      "[0.37333333332835555, 0.2750921221584581, 0.2024142784563601, 0.14650846974742884, 0.27299442396489254, 0.49411764217577864, 0.42857142857142855, 0.5833333333333334, 0.23423422957552154, 0.18571428571428572, 0.3170731707317073, 0.49411764217577864, 0.42857142857142855, 0.5833333333333334, 0.0, 0.2580645161290323]\n",
      "<_io.TextIOWrapper name='/root/grit/datasets/caption/metrics/spice/tmp/in' mode='w' encoding='UTF-8'>\n",
      "/root/grit/datasets/caption/metrics/spice/tmp/in\n"
     ]
    },
    {
     "name": "stderr",
     "output_type": "stream",
     "text": [
      "Parsing reference captions\n",
      "Parsing test captions\n"
     ]
    },
    {
     "name": "stdout",
     "output_type": "stream",
     "text": [
      "SPICE evaluation took: 659.0 ms\n",
      "sample 30 score :\n",
      "[0.37333333332835555, 0.2750921221584581, 0.2024142784563601, 0.14650846974742884, 0.27299442396489254, 0.49411764217577864, 0.42857142857142855, 0.5833333333333334, 0.23423422957552154, 0.18571428571428572, 0.3170731707317073, 0.49411764217577864, 0.42857142857142855, 0.5833333333333334, 0.0, 0.2580645161290323]\n",
      "<_io.TextIOWrapper name='/root/grit/datasets/caption/metrics/spice/tmp/in' mode='w' encoding='UTF-8'>\n",
      "/root/grit/datasets/caption/metrics/spice/tmp/in\n"
     ]
    },
    {
     "name": "stderr",
     "output_type": "stream",
     "text": [
      "Parsing reference captions\n",
      "Parsing test captions\n"
     ]
    },
    {
     "name": "stdout",
     "output_type": "stream",
     "text": [
      "SPICE evaluation took: 659.9 ms\n",
      "sample 31 score :\n",
      "[0.37333333332835555, 0.2750921221584581, 0.2024142784563601, 0.14650846974742884, 0.27299442396489254, 0.49411764217577864, 0.42857142857142855, 0.5833333333333334, 0.23423422957552154, 0.18571428571428572, 0.3170731707317073, 0.49411764217577864, 0.42857142857142855, 0.5833333333333334, 0.0, 0.2580645161290323]\n",
      "<_io.TextIOWrapper name='/root/grit/datasets/caption/metrics/spice/tmp/in' mode='w' encoding='UTF-8'>\n",
      "/root/grit/datasets/caption/metrics/spice/tmp/in\n"
     ]
    },
    {
     "name": "stderr",
     "output_type": "stream",
     "text": [
      "Parsing reference captions\n",
      "Parsing test captions\n"
     ]
    },
    {
     "name": "stdout",
     "output_type": "stream",
     "text": [
      "SPICE evaluation took: 660.1 ms\n",
      "sample 32 score :\n",
      "[0.37333333332835555, 0.2750921221584581, 0.2024142784563601, 0.14650846974742884, 0.27299442396489254, 0.49411764217577864, 0.42857142857142855, 0.5833333333333334, 0.23423422957552154, 0.18571428571428572, 0.3170731707317073, 0.49411764217577864, 0.42857142857142855, 0.5833333333333334, 0.0, 0.2580645161290323]\n",
      "<_io.TextIOWrapper name='/root/grit/datasets/caption/metrics/spice/tmp/in' mode='w' encoding='UTF-8'>\n",
      "/root/grit/datasets/caption/metrics/spice/tmp/in\n"
     ]
    },
    {
     "name": "stderr",
     "output_type": "stream",
     "text": [
      "Parsing reference captions\n",
      "Parsing test captions\n"
     ]
    },
    {
     "name": "stdout",
     "output_type": "stream",
     "text": [
      "SPICE evaluation took: 669.9 ms\n",
      "sample 33 score :\n",
      "[0.37333333332835555, 0.2750921221584581, 0.2024142784563601, 0.14650846974742884, 0.27299442396489254, 0.49411764217577864, 0.42857142857142855, 0.5833333333333334, 0.23423422957552154, 0.18571428571428572, 0.3170731707317073, 0.49411764217577864, 0.42857142857142855, 0.5833333333333334, 0.0, 0.2580645161290323]\n",
      "<_io.TextIOWrapper name='/root/grit/datasets/caption/metrics/spice/tmp/in' mode='w' encoding='UTF-8'>\n",
      "/root/grit/datasets/caption/metrics/spice/tmp/in\n"
     ]
    },
    {
     "name": "stderr",
     "output_type": "stream",
     "text": [
      "Parsing reference captions\n",
      "Parsing test captions\n"
     ]
    },
    {
     "name": "stdout",
     "output_type": "stream",
     "text": [
      "SPICE evaluation took: 652.5 ms\n",
      "sample 34 score :\n",
      "[0.37333333332835555, 0.2750921221584581, 0.2024142784563601, 0.14650846974742884, 0.27299442396489254, 0.49411764217577864, 0.42857142857142855, 0.5833333333333334, 0.23423422957552154, 0.18571428571428572, 0.3170731707317073, 0.49411764217577864, 0.42857142857142855, 0.5833333333333334, 0.0, 0.2580645161290323]\n",
      "<_io.TextIOWrapper name='/root/grit/datasets/caption/metrics/spice/tmp/in' mode='w' encoding='UTF-8'>\n",
      "/root/grit/datasets/caption/metrics/spice/tmp/in\n"
     ]
    },
    {
     "name": "stderr",
     "output_type": "stream",
     "text": [
      "Parsing reference captions\n",
      "Parsing test captions\n"
     ]
    },
    {
     "name": "stdout",
     "output_type": "stream",
     "text": [
      "SPICE evaluation took: 650.5 ms\n",
      "sample 35 score :\n",
      "[0.37333333332835555, 0.2750921221584581, 0.2024142784563601, 0.14650846974742884, 0.27299442396489254, 0.49411764217577864, 0.42857142857142855, 0.5833333333333334, 0.23423422957552154, 0.18571428571428572, 0.3170731707317073, 0.49411764217577864, 0.42857142857142855, 0.5833333333333334, 0.0, 0.2580645161290323]\n",
      "<_io.TextIOWrapper name='/root/grit/datasets/caption/metrics/spice/tmp/in' mode='w' encoding='UTF-8'>\n",
      "/root/grit/datasets/caption/metrics/spice/tmp/in\n"
     ]
    },
    {
     "name": "stderr",
     "output_type": "stream",
     "text": [
      "Parsing reference captions\n",
      "Parsing test captions\n"
     ]
    },
    {
     "name": "stdout",
     "output_type": "stream",
     "text": [
      "SPICE evaluation took: 669.9 ms\n",
      "sample 36 score :\n",
      "[0.37333333332835555, 0.2750921221584581, 0.2024142784563601, 0.14650846974742884, 0.27299442396489254, 0.49411764217577864, 0.42857142857142855, 0.5833333333333334, 0.23423422957552154, 0.18571428571428572, 0.3170731707317073, 0.49411764217577864, 0.42857142857142855, 0.5833333333333334, 0.0, 0.2580645161290323]\n",
      "<_io.TextIOWrapper name='/root/grit/datasets/caption/metrics/spice/tmp/in' mode='w' encoding='UTF-8'>\n",
      "/root/grit/datasets/caption/metrics/spice/tmp/in\n"
     ]
    },
    {
     "name": "stderr",
     "output_type": "stream",
     "text": [
      "Parsing reference captions\n",
      "Parsing test captions\n"
     ]
    },
    {
     "name": "stdout",
     "output_type": "stream",
     "text": [
      "SPICE evaluation took: 650.8 ms\n",
      "sample 37 score :\n",
      "[0.37333333332835555, 0.2750921221584581, 0.2024142784563601, 0.14650846974742884, 0.27299442396489254, 0.49411764217577864, 0.42857142857142855, 0.5833333333333334, 0.23423422957552154, 0.18571428571428572, 0.3170731707317073, 0.49411764217577864, 0.42857142857142855, 0.5833333333333334, 0.0, 0.2580645161290323]\n",
      "<_io.TextIOWrapper name='/root/grit/datasets/caption/metrics/spice/tmp/in' mode='w' encoding='UTF-8'>\n",
      "/root/grit/datasets/caption/metrics/spice/tmp/in\n"
     ]
    },
    {
     "name": "stderr",
     "output_type": "stream",
     "text": [
      "Parsing reference captions\n",
      "Parsing test captions\n"
     ]
    },
    {
     "name": "stdout",
     "output_type": "stream",
     "text": [
      "SPICE evaluation took: 636.2 ms\n",
      "sample 38 score :\n",
      "[0.37333333332835555, 0.2750921221584581, 0.2024142784563601, 0.14650846974742884, 0.27299442396489254, 0.49411764217577864, 0.42857142857142855, 0.5833333333333334, 0.23423422957552154, 0.18571428571428572, 0.3170731707317073, 0.49411764217577864, 0.42857142857142855, 0.5833333333333334, 0.0, 0.2580645161290323]\n",
      "<_io.TextIOWrapper name='/root/grit/datasets/caption/metrics/spice/tmp/in' mode='w' encoding='UTF-8'>\n",
      "/root/grit/datasets/caption/metrics/spice/tmp/in\n"
     ]
    },
    {
     "name": "stderr",
     "output_type": "stream",
     "text": [
      "Parsing reference captions\n",
      "Parsing test captions\n"
     ]
    },
    {
     "name": "stdout",
     "output_type": "stream",
     "text": [
      "SPICE evaluation took: 641.2 ms\n",
      "sample 39 score :\n",
      "[0.37333333332835555, 0.2750921221584581, 0.2024142784563601, 0.14650846974742884, 0.27299442396489254, 0.49411764217577864, 0.42857142857142855, 0.5833333333333334, 0.23423422957552154, 0.18571428571428572, 0.3170731707317073, 0.49411764217577864, 0.42857142857142855, 0.5833333333333334, 0.0, 0.2580645161290323]\n",
      "<_io.TextIOWrapper name='/root/grit/datasets/caption/metrics/spice/tmp/in' mode='w' encoding='UTF-8'>\n",
      "/root/grit/datasets/caption/metrics/spice/tmp/in\n"
     ]
    },
    {
     "name": "stderr",
     "output_type": "stream",
     "text": [
      "Parsing reference captions\n",
      "Parsing test captions\n"
     ]
    },
    {
     "name": "stdout",
     "output_type": "stream",
     "text": [
      "SPICE evaluation took: 647.3 ms\n",
      "sample 40 score :\n",
      "[0.37333333332835555, 0.2750921221584581, 0.2024142784563601, 0.14650846974742884, 0.27299442396489254, 0.49411764217577864, 0.42857142857142855, 0.5833333333333334, 0.23423422957552154, 0.18571428571428572, 0.3170731707317073, 0.49411764217577864, 0.42857142857142855, 0.5833333333333334, 0.0, 0.2580645161290323]\n",
      "<_io.TextIOWrapper name='/root/grit/datasets/caption/metrics/spice/tmp/in' mode='w' encoding='UTF-8'>\n",
      "/root/grit/datasets/caption/metrics/spice/tmp/in\n"
     ]
    },
    {
     "name": "stderr",
     "output_type": "stream",
     "text": [
      "Parsing reference captions\n",
      "Parsing test captions\n"
     ]
    },
    {
     "name": "stdout",
     "output_type": "stream",
     "text": [
      "SPICE evaluation took: 649.8 ms\n",
      "sample 41 score :\n",
      "[0.37333333332835555, 0.2750921221584581, 0.2024142784563601, 0.14650846974742884, 0.27299442396489254, 0.49411764217577864, 0.42857142857142855, 0.5833333333333334, 0.23423422957552154, 0.18571428571428572, 0.3170731707317073, 0.49411764217577864, 0.42857142857142855, 0.5833333333333334, 0.0, 0.2580645161290323]\n",
      "<_io.TextIOWrapper name='/root/grit/datasets/caption/metrics/spice/tmp/in' mode='w' encoding='UTF-8'>\n",
      "/root/grit/datasets/caption/metrics/spice/tmp/in\n"
     ]
    },
    {
     "name": "stderr",
     "output_type": "stream",
     "text": [
      "Parsing reference captions\n",
      "Parsing test captions\n"
     ]
    },
    {
     "name": "stdout",
     "output_type": "stream",
     "text": [
      "SPICE evaluation took: 641.8 ms\n",
      "sample 42 score :\n",
      "[0.37333333332835555, 0.2750921221584581, 0.2024142784563601, 0.14650846974742884, 0.27299442396489254, 0.49411764217577864, 0.42857142857142855, 0.5833333333333334, 0.23423422957552154, 0.18571428571428572, 0.3170731707317073, 0.49411764217577864, 0.42857142857142855, 0.5833333333333334, 0.0, 0.2580645161290323]\n",
      "<_io.TextIOWrapper name='/root/grit/datasets/caption/metrics/spice/tmp/in' mode='w' encoding='UTF-8'>\n",
      "/root/grit/datasets/caption/metrics/spice/tmp/in\n"
     ]
    },
    {
     "name": "stderr",
     "output_type": "stream",
     "text": [
      "Parsing reference captions\n",
      "Parsing test captions\n"
     ]
    },
    {
     "name": "stdout",
     "output_type": "stream",
     "text": [
      "SPICE evaluation took: 675.2 ms\n",
      "sample 43 score :\n",
      "[0.37333333332835555, 0.2750921221584581, 0.2024142784563601, 0.14650846974742884, 0.27299442396489254, 0.49411764217577864, 0.42857142857142855, 0.5833333333333334, 0.23423422957552154, 0.18571428571428572, 0.3170731707317073, 0.49411764217577864, 0.42857142857142855, 0.5833333333333334, 0.0, 0.2580645161290323]\n",
      "<_io.TextIOWrapper name='/root/grit/datasets/caption/metrics/spice/tmp/in' mode='w' encoding='UTF-8'>\n",
      "/root/grit/datasets/caption/metrics/spice/tmp/in\n"
     ]
    },
    {
     "name": "stderr",
     "output_type": "stream",
     "text": [
      "Parsing reference captions\n",
      "Parsing test captions\n"
     ]
    },
    {
     "name": "stdout",
     "output_type": "stream",
     "text": [
      "SPICE evaluation took: 653.9 ms\n",
      "sample 44 score :\n",
      "[0.37333333332835555, 0.2750921221584581, 0.2024142784563601, 0.14650846974742884, 0.27299442396489254, 0.49411764217577864, 0.42857142857142855, 0.5833333333333334, 0.23423422957552154, 0.18571428571428572, 0.3170731707317073, 0.49411764217577864, 0.42857142857142855, 0.5833333333333334, 0.0, 0.2580645161290323]\n",
      "<_io.TextIOWrapper name='/root/grit/datasets/caption/metrics/spice/tmp/in' mode='w' encoding='UTF-8'>\n",
      "/root/grit/datasets/caption/metrics/spice/tmp/in\n"
     ]
    },
    {
     "name": "stderr",
     "output_type": "stream",
     "text": [
      "Parsing reference captions\n",
      "Parsing test captions\n"
     ]
    },
    {
     "name": "stdout",
     "output_type": "stream",
     "text": [
      "SPICE evaluation took: 650.3 ms\n",
      "sample 45 score :\n",
      "[0.37333333332835555, 0.2750921221584581, 0.2024142784563601, 0.14650846974742884, 0.27299442396489254, 0.49411764217577864, 0.42857142857142855, 0.5833333333333334, 0.23423422957552154, 0.18571428571428572, 0.3170731707317073, 0.49411764217577864, 0.42857142857142855, 0.5833333333333334, 0.0, 0.2580645161290323]\n",
      "<_io.TextIOWrapper name='/root/grit/datasets/caption/metrics/spice/tmp/in' mode='w' encoding='UTF-8'>\n",
      "/root/grit/datasets/caption/metrics/spice/tmp/in\n"
     ]
    },
    {
     "name": "stderr",
     "output_type": "stream",
     "text": [
      "Parsing reference captions\n",
      "Parsing test captions\n"
     ]
    },
    {
     "name": "stdout",
     "output_type": "stream",
     "text": [
      "SPICE evaluation took: 650.9 ms\n",
      "sample 46 score :\n",
      "[0.37333333332835555, 0.2750921221584581, 0.2024142784563601, 0.14650846974742884, 0.27299442396489254, 0.49411764217577864, 0.42857142857142855, 0.5833333333333334, 0.23423422957552154, 0.18571428571428572, 0.3170731707317073, 0.49411764217577864, 0.42857142857142855, 0.5833333333333334, 0.0, 0.2580645161290323]\n",
      "<_io.TextIOWrapper name='/root/grit/datasets/caption/metrics/spice/tmp/in' mode='w' encoding='UTF-8'>\n",
      "/root/grit/datasets/caption/metrics/spice/tmp/in\n"
     ]
    },
    {
     "name": "stderr",
     "output_type": "stream",
     "text": [
      "Parsing reference captions\n",
      "Parsing test captions\n"
     ]
    },
    {
     "name": "stdout",
     "output_type": "stream",
     "text": [
      "SPICE evaluation took: 633.9 ms\n",
      "sample 47 score :\n",
      "[0.37333333332835555, 0.2750921221584581, 0.2024142784563601, 0.14650846974742884, 0.27299442396489254, 0.49411764217577864, 0.42857142857142855, 0.5833333333333334, 0.23423422957552154, 0.18571428571428572, 0.3170731707317073, 0.49411764217577864, 0.42857142857142855, 0.5833333333333334, 0.0, 0.2580645161290323]\n",
      "<_io.TextIOWrapper name='/root/grit/datasets/caption/metrics/spice/tmp/in' mode='w' encoding='UTF-8'>\n",
      "/root/grit/datasets/caption/metrics/spice/tmp/in\n"
     ]
    },
    {
     "name": "stderr",
     "output_type": "stream",
     "text": [
      "Parsing reference captions\n",
      "Parsing test captions\n"
     ]
    },
    {
     "name": "stdout",
     "output_type": "stream",
     "text": [
      "SPICE evaluation took: 657.7 ms\n",
      "sample 48 score :\n",
      "[0.37333333332835555, 0.2750921221584581, 0.2024142784563601, 0.14650846974742884, 0.27299442396489254, 0.49411764217577864, 0.42857142857142855, 0.5833333333333334, 0.23423422957552154, 0.18571428571428572, 0.3170731707317073, 0.49411764217577864, 0.42857142857142855, 0.5833333333333334, 0.0, 0.2580645161290323]\n",
      "<_io.TextIOWrapper name='/root/grit/datasets/caption/metrics/spice/tmp/in' mode='w' encoding='UTF-8'>\n",
      "/root/grit/datasets/caption/metrics/spice/tmp/in\n"
     ]
    },
    {
     "name": "stderr",
     "output_type": "stream",
     "text": [
      "Parsing reference captions\n",
      "Parsing test captions\n"
     ]
    },
    {
     "name": "stdout",
     "output_type": "stream",
     "text": [
      "SPICE evaluation took: 638.7 ms\n",
      "sample 49 score :\n",
      "[0.37333333332835555, 0.2750921221584581, 0.2024142784563601, 0.14650846974742884, 0.27299442396489254, 0.49411764217577864, 0.42857142857142855, 0.5833333333333334, 0.23423422957552154, 0.18571428571428572, 0.3170731707317073, 0.49411764217577864, 0.42857142857142855, 0.5833333333333334, 0.0, 0.2580645161290323]\n",
      "<_io.TextIOWrapper name='/root/grit/datasets/caption/metrics/spice/tmp/in' mode='w' encoding='UTF-8'>\n",
      "/root/grit/datasets/caption/metrics/spice/tmp/in\n"
     ]
    },
    {
     "name": "stderr",
     "output_type": "stream",
     "text": [
      "Parsing reference captions\n",
      "Parsing test captions\n"
     ]
    },
    {
     "name": "stdout",
     "output_type": "stream",
     "text": [
      "SPICE evaluation took: 652.8 ms\n",
      "sample 50 score :\n",
      "[0.37333333332835555, 0.2750921221584581, 0.2024142784563601, 0.14650846974742884, 0.27299442396489254, 0.49411764217577864, 0.42857142857142855, 0.5833333333333334, 0.23423422957552154, 0.18571428571428572, 0.3170731707317073, 0.49411764217577864, 0.42857142857142855, 0.5833333333333334, 0.0, 0.2580645161290323]\n",
      "<_io.TextIOWrapper name='/root/grit/datasets/caption/metrics/spice/tmp/in' mode='w' encoding='UTF-8'>\n",
      "/root/grit/datasets/caption/metrics/spice/tmp/in\n"
     ]
    },
    {
     "name": "stderr",
     "output_type": "stream",
     "text": [
      "Parsing reference captions\n",
      "Parsing test captions\n"
     ]
    },
    {
     "name": "stdout",
     "output_type": "stream",
     "text": [
      "SPICE evaluation took: 672.6 ms\n",
      "sample 51 score :\n",
      "[0.37333333332835555, 0.2750921221584581, 0.2024142784563601, 0.14650846974742884, 0.27299442396489254, 0.49411764217577864, 0.42857142857142855, 0.5833333333333334, 0.23423422957552154, 0.18571428571428572, 0.3170731707317073, 0.49411764217577864, 0.42857142857142855, 0.5833333333333334, 0.0, 0.2580645161290323]\n",
      "<_io.TextIOWrapper name='/root/grit/datasets/caption/metrics/spice/tmp/in' mode='w' encoding='UTF-8'>\n",
      "/root/grit/datasets/caption/metrics/spice/tmp/in\n"
     ]
    },
    {
     "name": "stderr",
     "output_type": "stream",
     "text": [
      "Parsing reference captions\n",
      "Parsing test captions\n"
     ]
    },
    {
     "name": "stdout",
     "output_type": "stream",
     "text": [
      "SPICE evaluation took: 644.7 ms\n",
      "sample 52 score :\n",
      "[0.37333333332835555, 0.2750921221584581, 0.2024142784563601, 0.14650846974742884, 0.27299442396489254, 0.49411764217577864, 0.42857142857142855, 0.5833333333333334, 0.23423422957552154, 0.18571428571428572, 0.3170731707317073, 0.49411764217577864, 0.42857142857142855, 0.5833333333333334, 0.0, 0.2580645161290323]\n",
      "<_io.TextIOWrapper name='/root/grit/datasets/caption/metrics/spice/tmp/in' mode='w' encoding='UTF-8'>\n",
      "/root/grit/datasets/caption/metrics/spice/tmp/in\n"
     ]
    },
    {
     "name": "stderr",
     "output_type": "stream",
     "text": [
      "Parsing reference captions\n",
      "Parsing test captions\n"
     ]
    },
    {
     "name": "stdout",
     "output_type": "stream",
     "text": [
      "SPICE evaluation took: 671.7 ms\n",
      "sample 53 score :\n",
      "[0.37333333332835555, 0.2750921221584581, 0.2024142784563601, 0.14650846974742884, 0.27299442396489254, 0.49411764217577864, 0.42857142857142855, 0.5833333333333334, 0.23423422957552154, 0.18571428571428572, 0.3170731707317073, 0.49411764217577864, 0.42857142857142855, 0.5833333333333334, 0.0, 0.2580645161290323]\n",
      "<_io.TextIOWrapper name='/root/grit/datasets/caption/metrics/spice/tmp/in' mode='w' encoding='UTF-8'>\n",
      "/root/grit/datasets/caption/metrics/spice/tmp/in\n"
     ]
    },
    {
     "name": "stderr",
     "output_type": "stream",
     "text": [
      "Parsing reference captions\n",
      "Parsing test captions\n"
     ]
    },
    {
     "name": "stdout",
     "output_type": "stream",
     "text": [
      "SPICE evaluation took: 696.5 ms\n",
      "sample 54 score :\n",
      "[0.37333333332835555, 0.2750921221584581, 0.2024142784563601, 0.14650846974742884, 0.27299442396489254, 0.49411764217577864, 0.42857142857142855, 0.5833333333333334, 0.23423422957552154, 0.18571428571428572, 0.3170731707317073, 0.49411764217577864, 0.42857142857142855, 0.5833333333333334, 0.0, 0.2580645161290323]\n",
      "<_io.TextIOWrapper name='/root/grit/datasets/caption/metrics/spice/tmp/in' mode='w' encoding='UTF-8'>\n",
      "/root/grit/datasets/caption/metrics/spice/tmp/in\n"
     ]
    },
    {
     "name": "stderr",
     "output_type": "stream",
     "text": [
      "Parsing reference captions\n",
      "Parsing test captions\n"
     ]
    },
    {
     "name": "stdout",
     "output_type": "stream",
     "text": [
      "SPICE evaluation took: 714.0 ms\n",
      "sample 55 score :\n",
      "[0.37333333332835555, 0.2750921221584581, 0.2024142784563601, 0.14650846974742884, 0.27299442396489254, 0.49411764217577864, 0.42857142857142855, 0.5833333333333334, 0.23423422957552154, 0.18571428571428572, 0.3170731707317073, 0.49411764217577864, 0.42857142857142855, 0.5833333333333334, 0.0, 0.2580645161290323]\n",
      "<_io.TextIOWrapper name='/root/grit/datasets/caption/metrics/spice/tmp/in' mode='w' encoding='UTF-8'>\n",
      "/root/grit/datasets/caption/metrics/spice/tmp/in\n"
     ]
    },
    {
     "name": "stderr",
     "output_type": "stream",
     "text": [
      "Parsing reference captions\n",
      "Parsing test captions\n"
     ]
    },
    {
     "name": "stdout",
     "output_type": "stream",
     "text": [
      "SPICE evaluation took: 691.5 ms\n",
      "sample 56 score :\n",
      "[0.37333333332835555, 0.2750921221584581, 0.2024142784563601, 0.14650846974742884, 0.27299442396489254, 0.49411764217577864, 0.42857142857142855, 0.5833333333333334, 0.23423422957552154, 0.18571428571428572, 0.3170731707317073, 0.49411764217577864, 0.42857142857142855, 0.5833333333333334, 0.0, 0.2580645161290323]\n",
      "<_io.TextIOWrapper name='/root/grit/datasets/caption/metrics/spice/tmp/in' mode='w' encoding='UTF-8'>\n",
      "/root/grit/datasets/caption/metrics/spice/tmp/in\n"
     ]
    },
    {
     "name": "stderr",
     "output_type": "stream",
     "text": [
      "Parsing reference captions\n",
      "Parsing test captions\n"
     ]
    },
    {
     "name": "stdout",
     "output_type": "stream",
     "text": [
      "SPICE evaluation took: 672.8 ms\n",
      "sample 57 score :\n",
      "[0.37333333332835555, 0.2750921221584581, 0.2024142784563601, 0.14650846974742884, 0.27299442396489254, 0.49411764217577864, 0.42857142857142855, 0.5833333333333334, 0.23423422957552154, 0.18571428571428572, 0.3170731707317073, 0.49411764217577864, 0.42857142857142855, 0.5833333333333334, 0.0, 0.2580645161290323]\n",
      "<_io.TextIOWrapper name='/root/grit/datasets/caption/metrics/spice/tmp/in' mode='w' encoding='UTF-8'>\n",
      "/root/grit/datasets/caption/metrics/spice/tmp/in\n"
     ]
    },
    {
     "name": "stderr",
     "output_type": "stream",
     "text": [
      "Parsing reference captions\n",
      "Parsing test captions\n"
     ]
    },
    {
     "name": "stdout",
     "output_type": "stream",
     "text": [
      "SPICE evaluation took: 659.2 ms\n",
      "sample 58 score :\n",
      "[0.37333333332835555, 0.2750921221584581, 0.2024142784563601, 0.14650846974742884, 0.27299442396489254, 0.49411764217577864, 0.42857142857142855, 0.5833333333333334, 0.23423422957552154, 0.18571428571428572, 0.3170731707317073, 0.49411764217577864, 0.42857142857142855, 0.5833333333333334, 0.0, 0.2580645161290323]\n",
      "<_io.TextIOWrapper name='/root/grit/datasets/caption/metrics/spice/tmp/in' mode='w' encoding='UTF-8'>\n",
      "/root/grit/datasets/caption/metrics/spice/tmp/in\n"
     ]
    },
    {
     "name": "stderr",
     "output_type": "stream",
     "text": [
      "Parsing reference captions\n",
      "Parsing test captions\n"
     ]
    },
    {
     "name": "stdout",
     "output_type": "stream",
     "text": [
      "SPICE evaluation took: 648.2 ms\n",
      "sample 59 score :\n",
      "[0.37333333332835555, 0.2750921221584581, 0.2024142784563601, 0.14650846974742884, 0.27299442396489254, 0.49411764217577864, 0.42857142857142855, 0.5833333333333334, 0.23423422957552154, 0.18571428571428572, 0.3170731707317073, 0.49411764217577864, 0.42857142857142855, 0.5833333333333334, 0.0, 0.2580645161290323]\n",
      "<_io.TextIOWrapper name='/root/grit/datasets/caption/metrics/spice/tmp/in' mode='w' encoding='UTF-8'>\n",
      "/root/grit/datasets/caption/metrics/spice/tmp/in\n"
     ]
    },
    {
     "name": "stderr",
     "output_type": "stream",
     "text": [
      "Parsing reference captions\n",
      "Parsing test captions\n"
     ]
    },
    {
     "name": "stdout",
     "output_type": "stream",
     "text": [
      "SPICE evaluation took: 658.4 ms\n",
      "sample 60 score :\n",
      "[0.37333333332835555, 0.2750921221584581, 0.2024142784563601, 0.14650846974742884, 0.27299442396489254, 0.49411764217577864, 0.42857142857142855, 0.5833333333333334, 0.23423422957552154, 0.18571428571428572, 0.3170731707317073, 0.49411764217577864, 0.42857142857142855, 0.5833333333333334, 0.0, 0.2580645161290323]\n",
      "<_io.TextIOWrapper name='/root/grit/datasets/caption/metrics/spice/tmp/in' mode='w' encoding='UTF-8'>\n",
      "/root/grit/datasets/caption/metrics/spice/tmp/in\n"
     ]
    },
    {
     "name": "stderr",
     "output_type": "stream",
     "text": [
      "Parsing reference captions\n",
      "Parsing test captions\n"
     ]
    },
    {
     "name": "stdout",
     "output_type": "stream",
     "text": [
      "SPICE evaluation took: 671.2 ms\n",
      "sample 61 score :\n",
      "[0.37333333332835555, 0.2750921221584581, 0.2024142784563601, 0.14650846974742884, 0.27299442396489254, 0.49411764217577864, 0.42857142857142855, 0.5833333333333334, 0.23423422957552154, 0.18571428571428572, 0.3170731707317073, 0.49411764217577864, 0.42857142857142855, 0.5833333333333334, 0.0, 0.2580645161290323]\n",
      "<_io.TextIOWrapper name='/root/grit/datasets/caption/metrics/spice/tmp/in' mode='w' encoding='UTF-8'>\n",
      "/root/grit/datasets/caption/metrics/spice/tmp/in\n"
     ]
    },
    {
     "name": "stderr",
     "output_type": "stream",
     "text": [
      "Parsing reference captions\n",
      "Parsing test captions\n"
     ]
    },
    {
     "name": "stdout",
     "output_type": "stream",
     "text": [
      "SPICE evaluation took: 726.8 ms\n",
      "sample 62 score :\n",
      "[0.37333333332835555, 0.2750921221584581, 0.2024142784563601, 0.14650846974742884, 0.27299442396489254, 0.49411764217577864, 0.42857142857142855, 0.5833333333333334, 0.23423422957552154, 0.18571428571428572, 0.3170731707317073, 0.49411764217577864, 0.42857142857142855, 0.5833333333333334, 0.0, 0.2580645161290323]\n",
      "<_io.TextIOWrapper name='/root/grit/datasets/caption/metrics/spice/tmp/in' mode='w' encoding='UTF-8'>\n",
      "/root/grit/datasets/caption/metrics/spice/tmp/in\n"
     ]
    },
    {
     "name": "stderr",
     "output_type": "stream",
     "text": [
      "Parsing reference captions\n",
      "Parsing test captions\n"
     ]
    },
    {
     "name": "stdout",
     "output_type": "stream",
     "text": [
      "SPICE evaluation took: 638.7 ms\n",
      "sample 63 score :\n",
      "[0.37333333332835555, 0.2750921221584581, 0.2024142784563601, 0.14650846974742884, 0.27299442396489254, 0.49411764217577864, 0.42857142857142855, 0.5833333333333334, 0.23423422957552154, 0.18571428571428572, 0.3170731707317073, 0.49411764217577864, 0.42857142857142855, 0.5833333333333334, 0.0, 0.2580645161290323]\n",
      "<_io.TextIOWrapper name='/root/grit/datasets/caption/metrics/spice/tmp/in' mode='w' encoding='UTF-8'>\n",
      "/root/grit/datasets/caption/metrics/spice/tmp/in\n"
     ]
    },
    {
     "name": "stderr",
     "output_type": "stream",
     "text": [
      "Parsing reference captions\n",
      "Parsing test captions\n"
     ]
    },
    {
     "name": "stdout",
     "output_type": "stream",
     "text": [
      "SPICE evaluation took: 676.5 ms\n",
      "sample 64 score :\n",
      "[0.37333333332835555, 0.2750921221584581, 0.2024142784563601, 0.14650846974742884, 0.27299442396489254, 0.49411764217577864, 0.42857142857142855, 0.5833333333333334, 0.23423422957552154, 0.18571428571428572, 0.3170731707317073, 0.49411764217577864, 0.42857142857142855, 0.5833333333333334, 0.0, 0.2580645161290323]\n",
      "<_io.TextIOWrapper name='/root/grit/datasets/caption/metrics/spice/tmp/in' mode='w' encoding='UTF-8'>\n",
      "/root/grit/datasets/caption/metrics/spice/tmp/in\n"
     ]
    },
    {
     "name": "stderr",
     "output_type": "stream",
     "text": [
      "Parsing reference captions\n",
      "Parsing test captions\n"
     ]
    },
    {
     "name": "stdout",
     "output_type": "stream",
     "text": [
      "SPICE evaluation took: 686.5 ms\n",
      "sample 65 score :\n",
      "[0.37333333332835555, 0.2750921221584581, 0.2024142784563601, 0.14650846974742884, 0.27299442396489254, 0.49411764217577864, 0.42857142857142855, 0.5833333333333334, 0.23423422957552154, 0.18571428571428572, 0.3170731707317073, 0.49411764217577864, 0.42857142857142855, 0.5833333333333334, 0.0, 0.2580645161290323]\n",
      "<_io.TextIOWrapper name='/root/grit/datasets/caption/metrics/spice/tmp/in' mode='w' encoding='UTF-8'>\n",
      "/root/grit/datasets/caption/metrics/spice/tmp/in\n"
     ]
    },
    {
     "name": "stderr",
     "output_type": "stream",
     "text": [
      "Parsing reference captions\n",
      "Parsing test captions\n"
     ]
    },
    {
     "name": "stdout",
     "output_type": "stream",
     "text": [
      "SPICE evaluation took: 700.6 ms\n",
      "sample 66 score :\n",
      "[0.37333333332835555, 0.2750921221584581, 0.2024142784563601, 0.14650846974742884, 0.27299442396489254, 0.49411764217577864, 0.42857142857142855, 0.5833333333333334, 0.23423422957552154, 0.18571428571428572, 0.3170731707317073, 0.49411764217577864, 0.42857142857142855, 0.5833333333333334, 0.0, 0.2580645161290323]\n",
      "<_io.TextIOWrapper name='/root/grit/datasets/caption/metrics/spice/tmp/in' mode='w' encoding='UTF-8'>\n",
      "/root/grit/datasets/caption/metrics/spice/tmp/in\n"
     ]
    },
    {
     "name": "stderr",
     "output_type": "stream",
     "text": [
      "Parsing reference captions\n",
      "Parsing test captions\n"
     ]
    },
    {
     "name": "stdout",
     "output_type": "stream",
     "text": [
      "SPICE evaluation took: 663.2 ms\n",
      "sample 67 score :\n",
      "[0.37333333332835555, 0.2750921221584581, 0.2024142784563601, 0.14650846974742884, 0.27299442396489254, 0.49411764217577864, 0.42857142857142855, 0.5833333333333334, 0.23423422957552154, 0.18571428571428572, 0.3170731707317073, 0.49411764217577864, 0.42857142857142855, 0.5833333333333334, 0.0, 0.2580645161290323]\n",
      "<_io.TextIOWrapper name='/root/grit/datasets/caption/metrics/spice/tmp/in' mode='w' encoding='UTF-8'>\n",
      "/root/grit/datasets/caption/metrics/spice/tmp/in\n"
     ]
    },
    {
     "name": "stderr",
     "output_type": "stream",
     "text": [
      "Parsing reference captions\n",
      "Parsing test captions\n"
     ]
    },
    {
     "name": "stdout",
     "output_type": "stream",
     "text": [
      "SPICE evaluation took: 580.2 ms\n",
      "sample 68 score :\n",
      "[0.37333333332835555, 0.2750921221584581, 0.2024142784563601, 0.14650846974742884, 0.27299442396489254, 0.49411764217577864, 0.42857142857142855, 0.5833333333333334, 0.23423422957552154, 0.18571428571428572, 0.3170731707317073, 0.49411764217577864, 0.42857142857142855, 0.5833333333333334, 0.0, 0.2580645161290323]\n",
      "<_io.TextIOWrapper name='/root/grit/datasets/caption/metrics/spice/tmp/in' mode='w' encoding='UTF-8'>\n",
      "/root/grit/datasets/caption/metrics/spice/tmp/in\n"
     ]
    },
    {
     "name": "stderr",
     "output_type": "stream",
     "text": [
      "Parsing reference captions\n",
      "Parsing test captions\n"
     ]
    },
    {
     "name": "stdout",
     "output_type": "stream",
     "text": [
      "SPICE evaluation took: 647.4 ms\n",
      "sample 69 score :\n",
      "[0.37333333332835555, 0.2750921221584581, 0.2024142784563601, 0.14650846974742884, 0.27299442396489254, 0.49411764217577864, 0.42857142857142855, 0.5833333333333334, 0.23423422957552154, 0.18571428571428572, 0.3170731707317073, 0.49411764217577864, 0.42857142857142855, 0.5833333333333334, 0.0, 0.2580645161290323]\n",
      "<_io.TextIOWrapper name='/root/grit/datasets/caption/metrics/spice/tmp/in' mode='w' encoding='UTF-8'>\n",
      "/root/grit/datasets/caption/metrics/spice/tmp/in\n"
     ]
    },
    {
     "name": "stderr",
     "output_type": "stream",
     "text": [
      "Parsing reference captions\n",
      "Parsing test captions\n"
     ]
    },
    {
     "name": "stdout",
     "output_type": "stream",
     "text": [
      "SPICE evaluation took: 645.2 ms\n",
      "sample 70 score :\n",
      "[0.37333333332835555, 0.2750921221584581, 0.2024142784563601, 0.14650846974742884, 0.27299442396489254, 0.49411764217577864, 0.42857142857142855, 0.5833333333333334, 0.23423422957552154, 0.18571428571428572, 0.3170731707317073, 0.49411764217577864, 0.42857142857142855, 0.5833333333333334, 0.0, 0.2580645161290323]\n",
      "<_io.TextIOWrapper name='/root/grit/datasets/caption/metrics/spice/tmp/in' mode='w' encoding='UTF-8'>\n",
      "/root/grit/datasets/caption/metrics/spice/tmp/in\n"
     ]
    },
    {
     "name": "stderr",
     "output_type": "stream",
     "text": [
      "Parsing reference captions\n",
      "Parsing test captions\n"
     ]
    },
    {
     "name": "stdout",
     "output_type": "stream",
     "text": [
      "SPICE evaluation took: 667.5 ms\n",
      "sample 71 score :\n",
      "[0.37333333332835555, 0.2750921221584581, 0.2024142784563601, 0.14650846974742884, 0.27299442396489254, 0.49411764217577864, 0.42857142857142855, 0.5833333333333334, 0.23423422957552154, 0.18571428571428572, 0.3170731707317073, 0.49411764217577864, 0.42857142857142855, 0.5833333333333334, 0.0, 0.2580645161290323]\n",
      "<_io.TextIOWrapper name='/root/grit/datasets/caption/metrics/spice/tmp/in' mode='w' encoding='UTF-8'>\n",
      "/root/grit/datasets/caption/metrics/spice/tmp/in\n"
     ]
    },
    {
     "name": "stderr",
     "output_type": "stream",
     "text": [
      "Parsing reference captions\n",
      "Parsing test captions\n"
     ]
    },
    {
     "name": "stdout",
     "output_type": "stream",
     "text": [
      "SPICE evaluation took: 647.4 ms\n",
      "sample 72 score :\n",
      "[0.37333333332835555, 0.2750921221584581, 0.2024142784563601, 0.14650846974742884, 0.27299442396489254, 0.49411764217577864, 0.42857142857142855, 0.5833333333333334, 0.23423422957552154, 0.18571428571428572, 0.3170731707317073, 0.49411764217577864, 0.42857142857142855, 0.5833333333333334, 0.0, 0.2580645161290323]\n",
      "<_io.TextIOWrapper name='/root/grit/datasets/caption/metrics/spice/tmp/in' mode='w' encoding='UTF-8'>\n",
      "/root/grit/datasets/caption/metrics/spice/tmp/in\n"
     ]
    },
    {
     "name": "stderr",
     "output_type": "stream",
     "text": [
      "Parsing reference captions\n",
      "Parsing test captions\n"
     ]
    },
    {
     "name": "stdout",
     "output_type": "stream",
     "text": [
      "SPICE evaluation took: 679.1 ms\n",
      "sample 73 score :\n",
      "[0.37333333332835555, 0.2750921221584581, 0.2024142784563601, 0.14650846974742884, 0.27299442396489254, 0.49411764217577864, 0.42857142857142855, 0.5833333333333334, 0.23423422957552154, 0.18571428571428572, 0.3170731707317073, 0.49411764217577864, 0.42857142857142855, 0.5833333333333334, 0.0, 0.2580645161290323]\n",
      "<_io.TextIOWrapper name='/root/grit/datasets/caption/metrics/spice/tmp/in' mode='w' encoding='UTF-8'>\n",
      "/root/grit/datasets/caption/metrics/spice/tmp/in\n"
     ]
    },
    {
     "name": "stderr",
     "output_type": "stream",
     "text": [
      "Parsing reference captions\n",
      "Parsing test captions\n"
     ]
    },
    {
     "name": "stdout",
     "output_type": "stream",
     "text": [
      "SPICE evaluation took: 665.1 ms\n",
      "sample 74 score :\n",
      "[0.37333333332835555, 0.2750921221584581, 0.2024142784563601, 0.14650846974742884, 0.27299442396489254, 0.49411764217577864, 0.42857142857142855, 0.5833333333333334, 0.23423422957552154, 0.18571428571428572, 0.3170731707317073, 0.49411764217577864, 0.42857142857142855, 0.5833333333333334, 0.0, 0.2580645161290323]\n",
      "<_io.TextIOWrapper name='/root/grit/datasets/caption/metrics/spice/tmp/in' mode='w' encoding='UTF-8'>\n",
      "/root/grit/datasets/caption/metrics/spice/tmp/in\n"
     ]
    },
    {
     "name": "stderr",
     "output_type": "stream",
     "text": [
      "Parsing reference captions\n",
      "Parsing test captions\n"
     ]
    },
    {
     "name": "stdout",
     "output_type": "stream",
     "text": [
      "SPICE evaluation took: 692.1 ms\n",
      "sample 75 score :\n",
      "[0.37333333332835555, 0.2750921221584581, 0.2024142784563601, 0.14650846974742884, 0.27299442396489254, 0.49411764217577864, 0.42857142857142855, 0.5833333333333334, 0.23423422957552154, 0.18571428571428572, 0.3170731707317073, 0.49411764217577864, 0.42857142857142855, 0.5833333333333334, 0.0, 0.2580645161290323]\n",
      "<_io.TextIOWrapper name='/root/grit/datasets/caption/metrics/spice/tmp/in' mode='w' encoding='UTF-8'>\n",
      "/root/grit/datasets/caption/metrics/spice/tmp/in\n"
     ]
    },
    {
     "name": "stderr",
     "output_type": "stream",
     "text": [
      "Parsing reference captions\n",
      "Parsing test captions\n"
     ]
    },
    {
     "name": "stdout",
     "output_type": "stream",
     "text": [
      "SPICE evaluation took: 716.4 ms\n",
      "sample 76 score :\n",
      "[0.37333333332835555, 0.2750921221584581, 0.2024142784563601, 0.14650846974742884, 0.27299442396489254, 0.49411764217577864, 0.42857142857142855, 0.5833333333333334, 0.23423422957552154, 0.18571428571428572, 0.3170731707317073, 0.49411764217577864, 0.42857142857142855, 0.5833333333333334, 0.0, 0.2580645161290323]\n",
      "<_io.TextIOWrapper name='/root/grit/datasets/caption/metrics/spice/tmp/in' mode='w' encoding='UTF-8'>\n",
      "/root/grit/datasets/caption/metrics/spice/tmp/in\n"
     ]
    },
    {
     "name": "stderr",
     "output_type": "stream",
     "text": [
      "Parsing reference captions\n",
      "Parsing test captions\n"
     ]
    },
    {
     "name": "stdout",
     "output_type": "stream",
     "text": [
      "SPICE evaluation took: 667.5 ms\n",
      "sample 77 score :\n",
      "[0.37333333332835555, 0.2750921221584581, 0.2024142784563601, 0.14650846974742884, 0.27299442396489254, 0.49411764217577864, 0.42857142857142855, 0.5833333333333334, 0.23423422957552154, 0.18571428571428572, 0.3170731707317073, 0.49411764217577864, 0.42857142857142855, 0.5833333333333334, 0.0, 0.2580645161290323]\n",
      "<_io.TextIOWrapper name='/root/grit/datasets/caption/metrics/spice/tmp/in' mode='w' encoding='UTF-8'>\n",
      "/root/grit/datasets/caption/metrics/spice/tmp/in\n"
     ]
    },
    {
     "name": "stderr",
     "output_type": "stream",
     "text": [
      "Parsing reference captions\n",
      "Parsing test captions\n"
     ]
    },
    {
     "name": "stdout",
     "output_type": "stream",
     "text": [
      "SPICE evaluation took: 678.2 ms\n",
      "sample 78 score :\n",
      "[0.37333333332835555, 0.2750921221584581, 0.2024142784563601, 0.14650846974742884, 0.27299442396489254, 0.49411764217577864, 0.42857142857142855, 0.5833333333333334, 0.23423422957552154, 0.18571428571428572, 0.3170731707317073, 0.49411764217577864, 0.42857142857142855, 0.5833333333333334, 0.0, 0.2580645161290323]\n",
      "<_io.TextIOWrapper name='/root/grit/datasets/caption/metrics/spice/tmp/in' mode='w' encoding='UTF-8'>\n",
      "/root/grit/datasets/caption/metrics/spice/tmp/in\n"
     ]
    },
    {
     "name": "stderr",
     "output_type": "stream",
     "text": [
      "Parsing reference captions\n",
      "Parsing test captions\n"
     ]
    },
    {
     "name": "stdout",
     "output_type": "stream",
     "text": [
      "SPICE evaluation took: 691.4 ms\n",
      "sample 79 score :\n",
      "[0.37333333332835555, 0.2750921221584581, 0.2024142784563601, 0.14650846974742884, 0.27299442396489254, 0.49411764217577864, 0.42857142857142855, 0.5833333333333334, 0.23423422957552154, 0.18571428571428572, 0.3170731707317073, 0.49411764217577864, 0.42857142857142855, 0.5833333333333334, 0.0, 0.2580645161290323]\n",
      "<_io.TextIOWrapper name='/root/grit/datasets/caption/metrics/spice/tmp/in' mode='w' encoding='UTF-8'>\n",
      "/root/grit/datasets/caption/metrics/spice/tmp/in\n"
     ]
    },
    {
     "name": "stderr",
     "output_type": "stream",
     "text": [
      "Parsing reference captions\n",
      "Parsing test captions\n"
     ]
    },
    {
     "name": "stdout",
     "output_type": "stream",
     "text": [
      "SPICE evaluation took: 674.8 ms\n",
      "sample 80 score :\n",
      "[0.37333333332835555, 0.2750921221584581, 0.2024142784563601, 0.14650846974742884, 0.27299442396489254, 0.49411764217577864, 0.42857142857142855, 0.5833333333333334, 0.23423422957552154, 0.18571428571428572, 0.3170731707317073, 0.49411764217577864, 0.42857142857142855, 0.5833333333333334, 0.0, 0.2580645161290323]\n",
      "<_io.TextIOWrapper name='/root/grit/datasets/caption/metrics/spice/tmp/in' mode='w' encoding='UTF-8'>\n",
      "/root/grit/datasets/caption/metrics/spice/tmp/in\n"
     ]
    },
    {
     "name": "stderr",
     "output_type": "stream",
     "text": [
      "Parsing reference captions\n",
      "Parsing test captions\n"
     ]
    },
    {
     "name": "stdout",
     "output_type": "stream",
     "text": [
      "SPICE evaluation took: 705.5 ms\n",
      "sample 81 score :\n",
      "[0.37333333332835555, 0.2750921221584581, 0.2024142784563601, 0.14650846974742884, 0.27299442396489254, 0.49411764217577864, 0.42857142857142855, 0.5833333333333334, 0.23423422957552154, 0.18571428571428572, 0.3170731707317073, 0.49411764217577864, 0.42857142857142855, 0.5833333333333334, 0.0, 0.2580645161290323]\n",
      "<_io.TextIOWrapper name='/root/grit/datasets/caption/metrics/spice/tmp/in' mode='w' encoding='UTF-8'>\n",
      "/root/grit/datasets/caption/metrics/spice/tmp/in\n"
     ]
    },
    {
     "name": "stderr",
     "output_type": "stream",
     "text": [
      "Parsing reference captions\n",
      "Parsing test captions\n"
     ]
    },
    {
     "name": "stdout",
     "output_type": "stream",
     "text": [
      "SPICE evaluation took: 724.9 ms\n",
      "sample 82 score :\n",
      "[0.37333333332835555, 0.2750921221584581, 0.2024142784563601, 0.14650846974742884, 0.27299442396489254, 0.49411764217577864, 0.42857142857142855, 0.5833333333333334, 0.23423422957552154, 0.18571428571428572, 0.3170731707317073, 0.49411764217577864, 0.42857142857142855, 0.5833333333333334, 0.0, 0.2580645161290323]\n",
      "<_io.TextIOWrapper name='/root/grit/datasets/caption/metrics/spice/tmp/in' mode='w' encoding='UTF-8'>\n",
      "/root/grit/datasets/caption/metrics/spice/tmp/in\n"
     ]
    },
    {
     "name": "stderr",
     "output_type": "stream",
     "text": [
      "Parsing reference captions\n",
      "Parsing test captions\n"
     ]
    },
    {
     "name": "stdout",
     "output_type": "stream",
     "text": [
      "SPICE evaluation took: 669.3 ms\n",
      "sample 83 score :\n",
      "[0.37333333332835555, 0.2750921221584581, 0.2024142784563601, 0.14650846974742884, 0.27299442396489254, 0.49411764217577864, 0.42857142857142855, 0.5833333333333334, 0.23423422957552154, 0.18571428571428572, 0.3170731707317073, 0.49411764217577864, 0.42857142857142855, 0.5833333333333334, 0.0, 0.2580645161290323]\n",
      "<_io.TextIOWrapper name='/root/grit/datasets/caption/metrics/spice/tmp/in' mode='w' encoding='UTF-8'>\n",
      "/root/grit/datasets/caption/metrics/spice/tmp/in\n"
     ]
    },
    {
     "name": "stderr",
     "output_type": "stream",
     "text": [
      "Parsing reference captions\n",
      "Parsing test captions\n"
     ]
    },
    {
     "name": "stdout",
     "output_type": "stream",
     "text": [
      "SPICE evaluation took: 668.0 ms\n",
      "sample 84 score :\n",
      "[0.37333333332835555, 0.2750921221584581, 0.2024142784563601, 0.14650846974742884, 0.27299442396489254, 0.49411764217577864, 0.42857142857142855, 0.5833333333333334, 0.23423422957552154, 0.18571428571428572, 0.3170731707317073, 0.49411764217577864, 0.42857142857142855, 0.5833333333333334, 0.0, 0.2580645161290323]\n",
      "<_io.TextIOWrapper name='/root/grit/datasets/caption/metrics/spice/tmp/in' mode='w' encoding='UTF-8'>\n",
      "/root/grit/datasets/caption/metrics/spice/tmp/in\n"
     ]
    },
    {
     "name": "stderr",
     "output_type": "stream",
     "text": [
      "Parsing reference captions\n",
      "Parsing test captions\n"
     ]
    },
    {
     "name": "stdout",
     "output_type": "stream",
     "text": [
      "SPICE evaluation took: 653.0 ms\n",
      "sample 85 score :\n",
      "[0.37333333332835555, 0.2750921221584581, 0.2024142784563601, 0.14650846974742884, 0.27299442396489254, 0.49411764217577864, 0.42857142857142855, 0.5833333333333334, 0.23423422957552154, 0.18571428571428572, 0.3170731707317073, 0.49411764217577864, 0.42857142857142855, 0.5833333333333334, 0.0, 0.2580645161290323]\n",
      "<_io.TextIOWrapper name='/root/grit/datasets/caption/metrics/spice/tmp/in' mode='w' encoding='UTF-8'>\n",
      "/root/grit/datasets/caption/metrics/spice/tmp/in\n"
     ]
    },
    {
     "name": "stderr",
     "output_type": "stream",
     "text": [
      "Parsing reference captions\n",
      "Parsing test captions\n"
     ]
    },
    {
     "name": "stdout",
     "output_type": "stream",
     "text": [
      "SPICE evaluation took: 637.5 ms\n",
      "sample 86 score :\n",
      "[0.37333333332835555, 0.2750921221584581, 0.2024142784563601, 0.14650846974742884, 0.27299442396489254, 0.49411764217577864, 0.42857142857142855, 0.5833333333333334, 0.23423422957552154, 0.18571428571428572, 0.3170731707317073, 0.49411764217577864, 0.42857142857142855, 0.5833333333333334, 0.0, 0.2580645161290323]\n",
      "<_io.TextIOWrapper name='/root/grit/datasets/caption/metrics/spice/tmp/in' mode='w' encoding='UTF-8'>\n",
      "/root/grit/datasets/caption/metrics/spice/tmp/in\n"
     ]
    },
    {
     "name": "stderr",
     "output_type": "stream",
     "text": [
      "Parsing reference captions\n",
      "Parsing test captions\n"
     ]
    },
    {
     "name": "stdout",
     "output_type": "stream",
     "text": [
      "SPICE evaluation took: 676.1 ms\n",
      "sample 87 score :\n",
      "[0.37333333332835555, 0.2750921221584581, 0.2024142784563601, 0.14650846974742884, 0.27299442396489254, 0.49411764217577864, 0.42857142857142855, 0.5833333333333334, 0.23423422957552154, 0.18571428571428572, 0.3170731707317073, 0.49411764217577864, 0.42857142857142855, 0.5833333333333334, 0.0, 0.2580645161290323]\n",
      "<_io.TextIOWrapper name='/root/grit/datasets/caption/metrics/spice/tmp/in' mode='w' encoding='UTF-8'>\n",
      "/root/grit/datasets/caption/metrics/spice/tmp/in\n"
     ]
    },
    {
     "name": "stderr",
     "output_type": "stream",
     "text": [
      "Parsing reference captions\n",
      "Parsing test captions\n"
     ]
    },
    {
     "name": "stdout",
     "output_type": "stream",
     "text": [
      "SPICE evaluation took: 672.7 ms\n",
      "sample 88 score :\n",
      "[0.37333333332835555, 0.2750921221584581, 0.2024142784563601, 0.14650846974742884, 0.27299442396489254, 0.49411764217577864, 0.42857142857142855, 0.5833333333333334, 0.23423422957552154, 0.18571428571428572, 0.3170731707317073, 0.49411764217577864, 0.42857142857142855, 0.5833333333333334, 0.0, 0.2580645161290323]\n",
      "<_io.TextIOWrapper name='/root/grit/datasets/caption/metrics/spice/tmp/in' mode='w' encoding='UTF-8'>\n",
      "/root/grit/datasets/caption/metrics/spice/tmp/in\n"
     ]
    },
    {
     "name": "stderr",
     "output_type": "stream",
     "text": [
      "Parsing reference captions\n",
      "Parsing test captions\n"
     ]
    },
    {
     "name": "stdout",
     "output_type": "stream",
     "text": [
      "SPICE evaluation took: 642.2 ms\n",
      "sample 89 score :\n",
      "[0.37333333332835555, 0.2750921221584581, 0.2024142784563601, 0.14650846974742884, 0.27299442396489254, 0.49411764217577864, 0.42857142857142855, 0.5833333333333334, 0.23423422957552154, 0.18571428571428572, 0.3170731707317073, 0.49411764217577864, 0.42857142857142855, 0.5833333333333334, 0.0, 0.2580645161290323]\n",
      "<_io.TextIOWrapper name='/root/grit/datasets/caption/metrics/spice/tmp/in' mode='w' encoding='UTF-8'>\n",
      "/root/grit/datasets/caption/metrics/spice/tmp/in\n"
     ]
    },
    {
     "name": "stderr",
     "output_type": "stream",
     "text": [
      "Parsing reference captions\n",
      "Parsing test captions\n"
     ]
    },
    {
     "name": "stdout",
     "output_type": "stream",
     "text": [
      "SPICE evaluation took: 671.7 ms\n",
      "sample 90 score :\n",
      "[0.37333333332835555, 0.2750921221584581, 0.2024142784563601, 0.14650846974742884, 0.27299442396489254, 0.49411764217577864, 0.42857142857142855, 0.5833333333333334, 0.23423422957552154, 0.18571428571428572, 0.3170731707317073, 0.49411764217577864, 0.42857142857142855, 0.5833333333333334, 0.0, 0.2580645161290323]\n",
      "<_io.TextIOWrapper name='/root/grit/datasets/caption/metrics/spice/tmp/in' mode='w' encoding='UTF-8'>\n",
      "/root/grit/datasets/caption/metrics/spice/tmp/in\n"
     ]
    },
    {
     "name": "stderr",
     "output_type": "stream",
     "text": [
      "Parsing reference captions\n",
      "Parsing test captions\n"
     ]
    },
    {
     "name": "stdout",
     "output_type": "stream",
     "text": [
      "SPICE evaluation took: 637.8 ms\n",
      "sample 91 score :\n",
      "[0.37333333332835555, 0.2750921221584581, 0.2024142784563601, 0.14650846974742884, 0.27299442396489254, 0.49411764217577864, 0.42857142857142855, 0.5833333333333334, 0.23423422957552154, 0.18571428571428572, 0.3170731707317073, 0.49411764217577864, 0.42857142857142855, 0.5833333333333334, 0.0, 0.2580645161290323]\n",
      "<_io.TextIOWrapper name='/root/grit/datasets/caption/metrics/spice/tmp/in' mode='w' encoding='UTF-8'>\n",
      "/root/grit/datasets/caption/metrics/spice/tmp/in\n"
     ]
    },
    {
     "name": "stderr",
     "output_type": "stream",
     "text": [
      "Parsing reference captions\n",
      "Parsing test captions\n"
     ]
    },
    {
     "name": "stdout",
     "output_type": "stream",
     "text": [
      "SPICE evaluation took: 663.0 ms\n",
      "sample 92 score :\n",
      "[0.37333333332835555, 0.2750921221584581, 0.2024142784563601, 0.14650846974742884, 0.27299442396489254, 0.49411764217577864, 0.42857142857142855, 0.5833333333333334, 0.23423422957552154, 0.18571428571428572, 0.3170731707317073, 0.49411764217577864, 0.42857142857142855, 0.5833333333333334, 0.0, 0.2580645161290323]\n",
      "<_io.TextIOWrapper name='/root/grit/datasets/caption/metrics/spice/tmp/in' mode='w' encoding='UTF-8'>\n",
      "/root/grit/datasets/caption/metrics/spice/tmp/in\n"
     ]
    },
    {
     "name": "stderr",
     "output_type": "stream",
     "text": [
      "Parsing reference captions\n",
      "Parsing test captions\n"
     ]
    },
    {
     "name": "stdout",
     "output_type": "stream",
     "text": [
      "SPICE evaluation took: 657.6 ms\n",
      "sample 93 score :\n",
      "[0.37333333332835555, 0.2750921221584581, 0.2024142784563601, 0.14650846974742884, 0.27299442396489254, 0.49411764217577864, 0.42857142857142855, 0.5833333333333334, 0.23423422957552154, 0.18571428571428572, 0.3170731707317073, 0.49411764217577864, 0.42857142857142855, 0.5833333333333334, 0.0, 0.2580645161290323]\n",
      "<_io.TextIOWrapper name='/root/grit/datasets/caption/metrics/spice/tmp/in' mode='w' encoding='UTF-8'>\n",
      "/root/grit/datasets/caption/metrics/spice/tmp/in\n"
     ]
    },
    {
     "name": "stderr",
     "output_type": "stream",
     "text": [
      "Parsing reference captions\n",
      "Parsing test captions\n"
     ]
    },
    {
     "name": "stdout",
     "output_type": "stream",
     "text": [
      "SPICE evaluation took: 666.6 ms\n",
      "sample 94 score :\n",
      "[0.37333333332835555, 0.2750921221584581, 0.2024142784563601, 0.14650846974742884, 0.27299442396489254, 0.49411764217577864, 0.42857142857142855, 0.5833333333333334, 0.23423422957552154, 0.18571428571428572, 0.3170731707317073, 0.49411764217577864, 0.42857142857142855, 0.5833333333333334, 0.0, 0.2580645161290323]\n",
      "<_io.TextIOWrapper name='/root/grit/datasets/caption/metrics/spice/tmp/in' mode='w' encoding='UTF-8'>\n",
      "/root/grit/datasets/caption/metrics/spice/tmp/in\n"
     ]
    },
    {
     "name": "stderr",
     "output_type": "stream",
     "text": [
      "Parsing reference captions\n",
      "Parsing test captions\n"
     ]
    },
    {
     "name": "stdout",
     "output_type": "stream",
     "text": [
      "SPICE evaluation took: 651.9 ms\n",
      "sample 95 score :\n",
      "[0.37333333332835555, 0.2750921221584581, 0.2024142784563601, 0.14650846974742884, 0.27299442396489254, 0.49411764217577864, 0.42857142857142855, 0.5833333333333334, 0.23423422957552154, 0.18571428571428572, 0.3170731707317073, 0.49411764217577864, 0.42857142857142855, 0.5833333333333334, 0.0, 0.2580645161290323]\n",
      "<_io.TextIOWrapper name='/root/grit/datasets/caption/metrics/spice/tmp/in' mode='w' encoding='UTF-8'>\n",
      "/root/grit/datasets/caption/metrics/spice/tmp/in\n"
     ]
    },
    {
     "name": "stderr",
     "output_type": "stream",
     "text": [
      "Parsing reference captions\n",
      "Parsing test captions\n"
     ]
    },
    {
     "name": "stdout",
     "output_type": "stream",
     "text": [
      "SPICE evaluation took: 668.3 ms\n",
      "sample 96 score :\n",
      "[0.37333333332835555, 0.2750921221584581, 0.2024142784563601, 0.14650846974742884, 0.27299442396489254, 0.49411764217577864, 0.42857142857142855, 0.5833333333333334, 0.23423422957552154, 0.18571428571428572, 0.3170731707317073, 0.49411764217577864, 0.42857142857142855, 0.5833333333333334, 0.0, 0.2580645161290323]\n",
      "<_io.TextIOWrapper name='/root/grit/datasets/caption/metrics/spice/tmp/in' mode='w' encoding='UTF-8'>\n",
      "/root/grit/datasets/caption/metrics/spice/tmp/in\n"
     ]
    },
    {
     "name": "stderr",
     "output_type": "stream",
     "text": [
      "Parsing reference captions\n",
      "Parsing test captions\n"
     ]
    },
    {
     "name": "stdout",
     "output_type": "stream",
     "text": [
      "SPICE evaluation took: 673.9 ms\n",
      "sample 97 score :\n",
      "[0.37333333332835555, 0.2750921221584581, 0.2024142784563601, 0.14650846974742884, 0.27299442396489254, 0.49411764217577864, 0.42857142857142855, 0.5833333333333334, 0.23423422957552154, 0.18571428571428572, 0.3170731707317073, 0.49411764217577864, 0.42857142857142855, 0.5833333333333334, 0.0, 0.2580645161290323]\n",
      "<_io.TextIOWrapper name='/root/grit/datasets/caption/metrics/spice/tmp/in' mode='w' encoding='UTF-8'>\n",
      "/root/grit/datasets/caption/metrics/spice/tmp/in\n"
     ]
    },
    {
     "name": "stderr",
     "output_type": "stream",
     "text": [
      "Parsing reference captions\n",
      "Parsing test captions\n"
     ]
    },
    {
     "name": "stdout",
     "output_type": "stream",
     "text": [
      "SPICE evaluation took: 641.5 ms\n",
      "sample 98 score :\n",
      "[0.37333333332835555, 0.2750921221584581, 0.2024142784563601, 0.14650846974742884, 0.27299442396489254, 0.49411764217577864, 0.42857142857142855, 0.5833333333333334, 0.23423422957552154, 0.18571428571428572, 0.3170731707317073, 0.49411764217577864, 0.42857142857142855, 0.5833333333333334, 0.0, 0.2580645161290323]\n",
      "<_io.TextIOWrapper name='/root/grit/datasets/caption/metrics/spice/tmp/in' mode='w' encoding='UTF-8'>\n",
      "/root/grit/datasets/caption/metrics/spice/tmp/in\n"
     ]
    },
    {
     "name": "stderr",
     "output_type": "stream",
     "text": [
      "Parsing reference captions\n",
      "Parsing test captions\n"
     ]
    },
    {
     "name": "stdout",
     "output_type": "stream",
     "text": [
      "SPICE evaluation took: 678.0 ms\n",
      "sample 99 score :\n",
      "[0.37333333332835555, 0.2750921221584581, 0.2024142784563601, 0.14650846974742884, 0.27299442396489254, 0.49411764217577864, 0.42857142857142855, 0.5833333333333334, 0.23423422957552154, 0.18571428571428572, 0.3170731707317073, 0.49411764217577864, 0.42857142857142855, 0.5833333333333334, 0.0, 0.2580645161290323]\n"
     ]
    },
    {
     "data": {
      "text/html": [
       "<div>\n",
       "<style scoped>\n",
       "    .dataframe tbody tr th:only-of-type {\n",
       "        vertical-align: middle;\n",
       "    }\n",
       "\n",
       "    .dataframe tbody tr th {\n",
       "        vertical-align: top;\n",
       "    }\n",
       "\n",
       "    .dataframe thead th {\n",
       "        text-align: right;\n",
       "    }\n",
       "</style>\n",
       "<table border=\"1\" class=\"dataframe\">\n",
       "  <thead>\n",
       "    <tr style=\"text-align: right;\">\n",
       "      <th></th>\n",
       "      <th>bleu_1gram</th>\n",
       "      <th>bleu_2gram</th>\n",
       "      <th>bleu_3gram</th>\n",
       "      <th>bleu_4gram</th>\n",
       "      <th>METEOR</th>\n",
       "      <th>ROUGE_1gram</th>\n",
       "      <th>ROUGE_1gram_pre</th>\n",
       "      <th>ROUGE_1gram_recall</th>\n",
       "      <th>ROUGE_2gram</th>\n",
       "      <th>ROUGE_2gram_pre</th>\n",
       "      <th>ROUGE_2gram_recall</th>\n",
       "      <th>ROUGE_L</th>\n",
       "      <th>ROUGE_L_pre</th>\n",
       "      <th>ROUGE_L_recall</th>\n",
       "      <th>CIDEr</th>\n",
       "      <th>Spice</th>\n",
       "    </tr>\n",
       "  </thead>\n",
       "  <tbody>\n",
       "    <tr>\n",
       "      <th>0</th>\n",
       "      <td>0.373333</td>\n",
       "      <td>0.275092</td>\n",
       "      <td>0.202414</td>\n",
       "      <td>0.146508</td>\n",
       "      <td>0.272994</td>\n",
       "      <td>0.494118</td>\n",
       "      <td>0.428571</td>\n",
       "      <td>0.583333</td>\n",
       "      <td>0.234234</td>\n",
       "      <td>0.185714</td>\n",
       "      <td>0.317073</td>\n",
       "      <td>0.494118</td>\n",
       "      <td>0.428571</td>\n",
       "      <td>0.583333</td>\n",
       "      <td>0.0</td>\n",
       "      <td>0.258065</td>\n",
       "    </tr>\n",
       "    <tr>\n",
       "      <th>1</th>\n",
       "      <td>0.373333</td>\n",
       "      <td>0.275092</td>\n",
       "      <td>0.202414</td>\n",
       "      <td>0.146508</td>\n",
       "      <td>0.272994</td>\n",
       "      <td>0.494118</td>\n",
       "      <td>0.428571</td>\n",
       "      <td>0.583333</td>\n",
       "      <td>0.234234</td>\n",
       "      <td>0.185714</td>\n",
       "      <td>0.317073</td>\n",
       "      <td>0.494118</td>\n",
       "      <td>0.428571</td>\n",
       "      <td>0.583333</td>\n",
       "      <td>0.0</td>\n",
       "      <td>0.258065</td>\n",
       "    </tr>\n",
       "    <tr>\n",
       "      <th>2</th>\n",
       "      <td>0.373333</td>\n",
       "      <td>0.275092</td>\n",
       "      <td>0.202414</td>\n",
       "      <td>0.146508</td>\n",
       "      <td>0.272994</td>\n",
       "      <td>0.494118</td>\n",
       "      <td>0.428571</td>\n",
       "      <td>0.583333</td>\n",
       "      <td>0.234234</td>\n",
       "      <td>0.185714</td>\n",
       "      <td>0.317073</td>\n",
       "      <td>0.494118</td>\n",
       "      <td>0.428571</td>\n",
       "      <td>0.583333</td>\n",
       "      <td>0.0</td>\n",
       "      <td>0.258065</td>\n",
       "    </tr>\n",
       "    <tr>\n",
       "      <th>3</th>\n",
       "      <td>0.373333</td>\n",
       "      <td>0.275092</td>\n",
       "      <td>0.202414</td>\n",
       "      <td>0.146508</td>\n",
       "      <td>0.272994</td>\n",
       "      <td>0.494118</td>\n",
       "      <td>0.428571</td>\n",
       "      <td>0.583333</td>\n",
       "      <td>0.234234</td>\n",
       "      <td>0.185714</td>\n",
       "      <td>0.317073</td>\n",
       "      <td>0.494118</td>\n",
       "      <td>0.428571</td>\n",
       "      <td>0.583333</td>\n",
       "      <td>0.0</td>\n",
       "      <td>0.258065</td>\n",
       "    </tr>\n",
       "    <tr>\n",
       "      <th>4</th>\n",
       "      <td>0.373333</td>\n",
       "      <td>0.275092</td>\n",
       "      <td>0.202414</td>\n",
       "      <td>0.146508</td>\n",
       "      <td>0.272994</td>\n",
       "      <td>0.494118</td>\n",
       "      <td>0.428571</td>\n",
       "      <td>0.583333</td>\n",
       "      <td>0.234234</td>\n",
       "      <td>0.185714</td>\n",
       "      <td>0.317073</td>\n",
       "      <td>0.494118</td>\n",
       "      <td>0.428571</td>\n",
       "      <td>0.583333</td>\n",
       "      <td>0.0</td>\n",
       "      <td>0.258065</td>\n",
       "    </tr>\n",
       "    <tr>\n",
       "      <th>...</th>\n",
       "      <td>...</td>\n",
       "      <td>...</td>\n",
       "      <td>...</td>\n",
       "      <td>...</td>\n",
       "      <td>...</td>\n",
       "      <td>...</td>\n",
       "      <td>...</td>\n",
       "      <td>...</td>\n",
       "      <td>...</td>\n",
       "      <td>...</td>\n",
       "      <td>...</td>\n",
       "      <td>...</td>\n",
       "      <td>...</td>\n",
       "      <td>...</td>\n",
       "      <td>...</td>\n",
       "      <td>...</td>\n",
       "    </tr>\n",
       "    <tr>\n",
       "      <th>95</th>\n",
       "      <td>0.373333</td>\n",
       "      <td>0.275092</td>\n",
       "      <td>0.202414</td>\n",
       "      <td>0.146508</td>\n",
       "      <td>0.272994</td>\n",
       "      <td>0.494118</td>\n",
       "      <td>0.428571</td>\n",
       "      <td>0.583333</td>\n",
       "      <td>0.234234</td>\n",
       "      <td>0.185714</td>\n",
       "      <td>0.317073</td>\n",
       "      <td>0.494118</td>\n",
       "      <td>0.428571</td>\n",
       "      <td>0.583333</td>\n",
       "      <td>0.0</td>\n",
       "      <td>0.258065</td>\n",
       "    </tr>\n",
       "    <tr>\n",
       "      <th>96</th>\n",
       "      <td>0.373333</td>\n",
       "      <td>0.275092</td>\n",
       "      <td>0.202414</td>\n",
       "      <td>0.146508</td>\n",
       "      <td>0.272994</td>\n",
       "      <td>0.494118</td>\n",
       "      <td>0.428571</td>\n",
       "      <td>0.583333</td>\n",
       "      <td>0.234234</td>\n",
       "      <td>0.185714</td>\n",
       "      <td>0.317073</td>\n",
       "      <td>0.494118</td>\n",
       "      <td>0.428571</td>\n",
       "      <td>0.583333</td>\n",
       "      <td>0.0</td>\n",
       "      <td>0.258065</td>\n",
       "    </tr>\n",
       "    <tr>\n",
       "      <th>97</th>\n",
       "      <td>0.373333</td>\n",
       "      <td>0.275092</td>\n",
       "      <td>0.202414</td>\n",
       "      <td>0.146508</td>\n",
       "      <td>0.272994</td>\n",
       "      <td>0.494118</td>\n",
       "      <td>0.428571</td>\n",
       "      <td>0.583333</td>\n",
       "      <td>0.234234</td>\n",
       "      <td>0.185714</td>\n",
       "      <td>0.317073</td>\n",
       "      <td>0.494118</td>\n",
       "      <td>0.428571</td>\n",
       "      <td>0.583333</td>\n",
       "      <td>0.0</td>\n",
       "      <td>0.258065</td>\n",
       "    </tr>\n",
       "    <tr>\n",
       "      <th>98</th>\n",
       "      <td>0.373333</td>\n",
       "      <td>0.275092</td>\n",
       "      <td>0.202414</td>\n",
       "      <td>0.146508</td>\n",
       "      <td>0.272994</td>\n",
       "      <td>0.494118</td>\n",
       "      <td>0.428571</td>\n",
       "      <td>0.583333</td>\n",
       "      <td>0.234234</td>\n",
       "      <td>0.185714</td>\n",
       "      <td>0.317073</td>\n",
       "      <td>0.494118</td>\n",
       "      <td>0.428571</td>\n",
       "      <td>0.583333</td>\n",
       "      <td>0.0</td>\n",
       "      <td>0.258065</td>\n",
       "    </tr>\n",
       "    <tr>\n",
       "      <th>99</th>\n",
       "      <td>0.373333</td>\n",
       "      <td>0.275092</td>\n",
       "      <td>0.202414</td>\n",
       "      <td>0.146508</td>\n",
       "      <td>0.272994</td>\n",
       "      <td>0.494118</td>\n",
       "      <td>0.428571</td>\n",
       "      <td>0.583333</td>\n",
       "      <td>0.234234</td>\n",
       "      <td>0.185714</td>\n",
       "      <td>0.317073</td>\n",
       "      <td>0.494118</td>\n",
       "      <td>0.428571</td>\n",
       "      <td>0.583333</td>\n",
       "      <td>0.0</td>\n",
       "      <td>0.258065</td>\n",
       "    </tr>\n",
       "  </tbody>\n",
       "</table>\n",
       "<p>100 rows × 16 columns</p>\n",
       "</div>"
      ],
      "text/plain": [
       "    bleu_1gram  bleu_2gram  bleu_3gram  bleu_4gram    METEOR  ROUGE_1gram  \\\n",
       "0     0.373333    0.275092    0.202414    0.146508  0.272994     0.494118   \n",
       "1     0.373333    0.275092    0.202414    0.146508  0.272994     0.494118   \n",
       "2     0.373333    0.275092    0.202414    0.146508  0.272994     0.494118   \n",
       "3     0.373333    0.275092    0.202414    0.146508  0.272994     0.494118   \n",
       "4     0.373333    0.275092    0.202414    0.146508  0.272994     0.494118   \n",
       "..         ...         ...         ...         ...       ...          ...   \n",
       "95    0.373333    0.275092    0.202414    0.146508  0.272994     0.494118   \n",
       "96    0.373333    0.275092    0.202414    0.146508  0.272994     0.494118   \n",
       "97    0.373333    0.275092    0.202414    0.146508  0.272994     0.494118   \n",
       "98    0.373333    0.275092    0.202414    0.146508  0.272994     0.494118   \n",
       "99    0.373333    0.275092    0.202414    0.146508  0.272994     0.494118   \n",
       "\n",
       "    ROUGE_1gram_pre  ROUGE_1gram_recall  ROUGE_2gram  ROUGE_2gram_pre  \\\n",
       "0          0.428571            0.583333     0.234234         0.185714   \n",
       "1          0.428571            0.583333     0.234234         0.185714   \n",
       "2          0.428571            0.583333     0.234234         0.185714   \n",
       "3          0.428571            0.583333     0.234234         0.185714   \n",
       "4          0.428571            0.583333     0.234234         0.185714   \n",
       "..              ...                 ...          ...              ...   \n",
       "95         0.428571            0.583333     0.234234         0.185714   \n",
       "96         0.428571            0.583333     0.234234         0.185714   \n",
       "97         0.428571            0.583333     0.234234         0.185714   \n",
       "98         0.428571            0.583333     0.234234         0.185714   \n",
       "99         0.428571            0.583333     0.234234         0.185714   \n",
       "\n",
       "    ROUGE_2gram_recall   ROUGE_L  ROUGE_L_pre  ROUGE_L_recall  CIDEr     Spice  \n",
       "0             0.317073  0.494118     0.428571        0.583333    0.0  0.258065  \n",
       "1             0.317073  0.494118     0.428571        0.583333    0.0  0.258065  \n",
       "2             0.317073  0.494118     0.428571        0.583333    0.0  0.258065  \n",
       "3             0.317073  0.494118     0.428571        0.583333    0.0  0.258065  \n",
       "4             0.317073  0.494118     0.428571        0.583333    0.0  0.258065  \n",
       "..                 ...       ...          ...             ...    ...       ...  \n",
       "95            0.317073  0.494118     0.428571        0.583333    0.0  0.258065  \n",
       "96            0.317073  0.494118     0.428571        0.583333    0.0  0.258065  \n",
       "97            0.317073  0.494118     0.428571        0.583333    0.0  0.258065  \n",
       "98            0.317073  0.494118     0.428571        0.583333    0.0  0.258065  \n",
       "99            0.317073  0.494118     0.428571        0.583333    0.0  0.258065  \n",
       "\n",
       "[100 rows x 16 columns]"
      ]
     },
     "execution_count": 3,
     "metadata": {},
     "output_type": "execute_result"
    }
   ],
   "source": [
    "sample_scores(gts,gen)"
   ]
  },
  {
   "cell_type": "code",
   "execution_count": null,
   "id": "a4e377fc-3584-4f45-8f22-1c21fd605294",
   "metadata": {},
   "outputs": [],
   "source": []
  }
 ],
 "metadata": {
  "kernelspec": {
   "display_name": "Python 3 (ipykernel)",
   "language": "python",
   "name": "python3"
  },
  "language_info": {
   "codemirror_mode": {
    "name": "ipython",
    "version": 3
   },
   "file_extension": ".py",
   "mimetype": "text/x-python",
   "name": "python",
   "nbconvert_exporter": "python",
   "pygments_lexer": "ipython3",
   "version": "3.8.10"
  }
 },
 "nbformat": 4,
 "nbformat_minor": 5
}